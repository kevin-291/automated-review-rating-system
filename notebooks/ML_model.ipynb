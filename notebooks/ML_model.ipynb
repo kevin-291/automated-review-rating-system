{
 "cells": [
  {
   "cell_type": "code",
   "execution_count": 17,
   "id": "292e2339",
   "metadata": {},
   "outputs": [],
   "source": [
    "import pandas as pd\n",
    "import os\n",
    "import joblib\n",
    "from sklearn.feature_extraction.text import TfidfVectorizer\n",
    "from sklearn.linear_model import LogisticRegression\n",
    "from sklearn.model_selection import train_test_split\n",
    "from sklearn.metrics import classification_report"
   ]
  },
  {
   "cell_type": "code",
   "execution_count": 2,
   "id": "a15c507d",
   "metadata": {},
   "outputs": [],
   "source": [
    "dataset_path = r'C:\\Users\\kevin\\Desktop\\VSCode\\Zecser\\data\\cleaned_dataset\\cleaned_Reviews.csv'\n",
    "df = pd.read_csv(dataset_path)"
   ]
  },
  {
   "cell_type": "code",
   "execution_count": 3,
   "id": "4a10fe62",
   "metadata": {},
   "outputs": [
    {
     "data": {
      "application/vnd.microsoft.datawrangler.viewer.v0+json": {
       "columns": [
        {
         "name": "index",
         "rawType": "int64",
         "type": "integer"
        },
        {
         "name": "Score",
         "rawType": "int64",
         "type": "integer"
        },
        {
         "name": "Text",
         "rawType": "object",
         "type": "string"
        },
        {
         "name": "Cleaned_Text",
         "rawType": "object",
         "type": "string"
        }
       ],
       "ref": "c1c698bd-440c-43c0-87a6-b804e5444b05",
       "rows": [
        [
         "0",
         "1",
         "I used to purchase them at wholefoods market. I bought a pack of 6 green puffs at Amazon, and half of puffs in the containers are burnt. It tastes a little bitter and the seasonings are all concentrated and sticking to most of puffs. I never had this problem when I got those at wholefoods. I thought it was only the one container that is defected, but I was wrong. I'm a little scared to make another S&S purchase on this item. Am I the only one having this issue??",
         "used purchase wholefoods market bought pack green puff amazon half puff container burnt taste little bitter seasoning concentrated sticking puff never problem got wholefoods thought one container defected wrong little scared make another purchase item one issue"
        ],
        [
         "1",
         "1",
         "Since the ingredient information is missing on Amazon.com, I contacted Byron Bay and received an email from them saying these are the ingredients on these products.  HOWEVER, based upon their information, I ordered the Triple Choc Fudge gf cookies and the ingredients on the package were different from what they emailed me and included allergens for me!  Trashed them!<br /><br />Also the cookies Amazon sent me had an expiration date is less than 60 days away which seems a little short to me.<br /><br />INGREDIENTS for GLUTEN FREE Sticky Date & Ginger Single Wrap Caf&eacute; Cookie (60g) cont:<br />Gluten Free Flour [rice flour, tapioca starch, maize starch, soy flour, emulsifier (soy lecithin), thickeners (xanthan gum, guar gum, 464)], butter, dates (15%) [rice flour], sugar, crystallized ginger (8%) [sugar, ginger], walnuts (7%),  glucose syrup (from maize), dextrose, fibre, maize cornflour, skim milk powder, soy flour, raising agent (sodium bicarbonate), salt, spices, flavour<br /><br />INGREDIENTS for GLUTEN FREE Triple Choc Fudge Single Wrap Caf&eacute; Cookie (60g) cont.:<br />Gluten Free Flour [rice flour, tapioca starch, maize starch, soy flour, emulsifier (soy lecithin), thickeners (xanthan gum, guar gum, 464)], butter, dark compound chocolate (14%) [sugar, vegetable oil, cocoa powder, milk solids, emulsifiers (soy lecithin, 476, 492), salt, flavour], white compound chocolate (14%) [sugar, vegetable oil, milk solids, emulsifiers (soy lecithin, 492), flavour], sugar, cocoa powder (4%), glucose syrup (from maize), dextrose, fibre, maize cornflour, egg, skim milk powder, soy flour, raising agent (sodium bicarbonate), salt, flavour.<br /><br />INGREDIENTS for GLUTEN FREE White Choc Chunk and Macadamia Single Wrap Caf&eacute; Cookie (60g) cont.:<br />Gluten Free Flour [rice flour, tapioca starch, maize starch, soy flour, emulsifier (soy lecithin), thickeners (xanthan gum, guar gum, 464)], white compound chocolate (21%) [sugar, vegetable oil, milk solids, emulsifiers (soy lecithin, 492), flavour], butter, macadamia nuts (10%), sugar, egg, soy flour, glucose syrup (from maize), dextrose, fibre, maize cornflour , skim milk powder, raising agent (sodium bicarbonate), salt, flavour.",
         "since ingredient information missing amazoncom contacted byron bay received email saying ingredient product however based upon information ordered triple choc fudge cooky ingredient package different emailed included allergen trashed also cooky amazon sent expiration date le day away seems little short ingredient gluten free sticky date ginger single wrap cafeacute cookie cont gluten free flour rice flour tapioca starch maize starch soy flour emulsifier soy lecithin thickener xanthan gum guar gum butter date rice flour sugar crystallized ginger sugar ginger walnut glucose syrup maize dextrose fibre maize cornflour skim milk powder soy flour raising agent sodium bicarbonate salt spice flavour ingredient gluten free triple choc fudge single wrap cafeacute cookie cont gluten free flour rice flour tapioca starch maize starch soy flour emulsifier soy lecithin thickener xanthan gum guar gum butter dark compound chocolate sugar vegetable oil cocoa powder milk solid emulsifier soy lecithin salt flavour white compound chocolate sugar vegetable oil milk solid emulsifier soy lecithin flavour sugar cocoa powder glucose syrup maize dextrose fibre maize cornflour egg skim milk powder soy flour raising agent sodium bicarbonate salt flavour ingredient gluten free white choc chunk macadamia single wrap cafeacute cookie cont gluten free flour rice flour tapioca starch maize starch soy flour emulsifier soy lecithin thickener xanthan gum guar gum white compound chocolate sugar vegetable oil milk solid emulsifier soy lecithin flavour butter macadamia nut sugar egg soy flour glucose syrup maize dextrose fibre maize cornflour skim milk powder raising agent sodium bicarbonate salt flavour"
        ],
        [
         "2",
         "1",
         "Being a cinnamon candy nut at Valentines, I was pretty excited to learn Jelly Belly had SIZZLING CINNAMON beans. Figured they would be hotter than the regular cinnamon, which to this Texas taste bud girl just is not so hot.<br /><br />Unfortunately, there's less of a cinnamon bite in these than regular cinnamon.  So if you like hot cinnamon candy, keep looking!<br /><br />Rebecca Kyle, February 2009",
         "cinnamon candy nut valentine pretty excited learn jelly belly sizzling cinnamon bean figured would hotter regular cinnamon texas taste bud girl hot unfortunately there le cinnamon bite regular cinnamon like hot cinnamon candy keep looking rebecca kyle february"
        ],
        [
         "3",
         "1",
         "This has to be the world's smallest box of chocolates, and its not even the 220g that is advertised. It is less than 200g. Very disappointing",
         "world smallest box chocolate even advertised le disappointing"
        ],
        [
         "4",
         "1",
         "This item can be purchased in stores for much less!!!!! weight not listed...only 7oz.....i thought from price it was larger size or multi-pack",
         "item purchased store much le weight listedonly ozi thought price larger size multipack"
        ]
       ],
       "shape": {
        "columns": 3,
        "rows": 5
       }
      },
      "text/html": [
       "<div>\n",
       "<style scoped>\n",
       "    .dataframe tbody tr th:only-of-type {\n",
       "        vertical-align: middle;\n",
       "    }\n",
       "\n",
       "    .dataframe tbody tr th {\n",
       "        vertical-align: top;\n",
       "    }\n",
       "\n",
       "    .dataframe thead th {\n",
       "        text-align: right;\n",
       "    }\n",
       "</style>\n",
       "<table border=\"1\" class=\"dataframe\">\n",
       "  <thead>\n",
       "    <tr style=\"text-align: right;\">\n",
       "      <th></th>\n",
       "      <th>Score</th>\n",
       "      <th>Text</th>\n",
       "      <th>Cleaned_Text</th>\n",
       "    </tr>\n",
       "  </thead>\n",
       "  <tbody>\n",
       "    <tr>\n",
       "      <th>0</th>\n",
       "      <td>1</td>\n",
       "      <td>I used to purchase them at wholefoods market. ...</td>\n",
       "      <td>used purchase wholefoods market bought pack gr...</td>\n",
       "    </tr>\n",
       "    <tr>\n",
       "      <th>1</th>\n",
       "      <td>1</td>\n",
       "      <td>Since the ingredient information is missing on...</td>\n",
       "      <td>since ingredient information missing amazoncom...</td>\n",
       "    </tr>\n",
       "    <tr>\n",
       "      <th>2</th>\n",
       "      <td>1</td>\n",
       "      <td>Being a cinnamon candy nut at Valentines, I wa...</td>\n",
       "      <td>cinnamon candy nut valentine pretty excited le...</td>\n",
       "    </tr>\n",
       "    <tr>\n",
       "      <th>3</th>\n",
       "      <td>1</td>\n",
       "      <td>This has to be the world's smallest box of cho...</td>\n",
       "      <td>world smallest box chocolate even advertised l...</td>\n",
       "    </tr>\n",
       "    <tr>\n",
       "      <th>4</th>\n",
       "      <td>1</td>\n",
       "      <td>This item can be purchased in stores for much ...</td>\n",
       "      <td>item purchased store much le weight listedonly...</td>\n",
       "    </tr>\n",
       "  </tbody>\n",
       "</table>\n",
       "</div>"
      ],
      "text/plain": [
       "   Score                                               Text  \\\n",
       "0      1  I used to purchase them at wholefoods market. ...   \n",
       "1      1  Since the ingredient information is missing on...   \n",
       "2      1  Being a cinnamon candy nut at Valentines, I wa...   \n",
       "3      1  This has to be the world's smallest box of cho...   \n",
       "4      1  This item can be purchased in stores for much ...   \n",
       "\n",
       "                                        Cleaned_Text  \n",
       "0  used purchase wholefoods market bought pack gr...  \n",
       "1  since ingredient information missing amazoncom...  \n",
       "2  cinnamon candy nut valentine pretty excited le...  \n",
       "3  world smallest box chocolate even advertised l...  \n",
       "4  item purchased store much le weight listedonly...  "
      ]
     },
     "execution_count": 3,
     "metadata": {},
     "output_type": "execute_result"
    }
   ],
   "source": [
    "df.head()"
   ]
  },
  {
   "cell_type": "code",
   "execution_count": 4,
   "id": "9940f9de",
   "metadata": {},
   "outputs": [
    {
     "data": {
      "application/vnd.microsoft.datawrangler.viewer.v0+json": {
       "columns": [
        {
         "name": "index",
         "rawType": "object",
         "type": "string"
        },
        {
         "name": "0",
         "rawType": "int64",
         "type": "integer"
        }
       ],
       "ref": "f6429eb1-10e9-4b49-b077-8f4ba1d24c8c",
       "rows": [
        [
         "Score",
         "0"
        ],
        [
         "Text",
         "0"
        ],
        [
         "Cleaned_Text",
         "1"
        ]
       ],
       "shape": {
        "columns": 1,
        "rows": 3
       }
      },
      "text/plain": [
       "Score           0\n",
       "Text            0\n",
       "Cleaned_Text    1\n",
       "dtype: int64"
      ]
     },
     "execution_count": 4,
     "metadata": {},
     "output_type": "execute_result"
    }
   ],
   "source": [
    "df.isnull().sum()  # Check for missing values"
   ]
  },
  {
   "cell_type": "code",
   "execution_count": 5,
   "id": "77450ad3",
   "metadata": {},
   "outputs": [],
   "source": [
    "df.dropna(inplace=True)"
   ]
  },
  {
   "cell_type": "code",
   "execution_count": 6,
   "id": "dcce9ec5",
   "metadata": {},
   "outputs": [
    {
     "data": {
      "application/vnd.microsoft.datawrangler.viewer.v0+json": {
       "columns": [
        {
         "name": "index",
         "rawType": "object",
         "type": "string"
        },
        {
         "name": "0",
         "rawType": "int64",
         "type": "integer"
        }
       ],
       "ref": "91ac7c75-ca40-429e-b1a2-9be9d0d29669",
       "rows": [
        [
         "Score",
         "0"
        ],
        [
         "Text",
         "0"
        ],
        [
         "Cleaned_Text",
         "0"
        ]
       ],
       "shape": {
        "columns": 1,
        "rows": 3
       }
      },
      "text/plain": [
       "Score           0\n",
       "Text            0\n",
       "Cleaned_Text    0\n",
       "dtype: int64"
      ]
     },
     "execution_count": 6,
     "metadata": {},
     "output_type": "execute_result"
    }
   ],
   "source": [
    "df.isnull().sum()"
   ]
  },
  {
   "cell_type": "code",
   "execution_count": 7,
   "id": "f4cac6bb",
   "metadata": {},
   "outputs": [
    {
     "data": {
      "text/plain": [
       "0"
      ]
     },
     "execution_count": 7,
     "metadata": {},
     "output_type": "execute_result"
    }
   ],
   "source": [
    "df.duplicated().sum()"
   ]
  },
  {
   "cell_type": "code",
   "execution_count": 8,
   "id": "466292bf",
   "metadata": {},
   "outputs": [
    {
     "name": "stdout",
     "output_type": "stream",
     "text": [
      "Score\n",
      "1    20790\n",
      "2    20790\n",
      "3    20790\n",
      "4    20790\n",
      "5    20789\n",
      "Name: count, dtype: int64\n"
     ]
    }
   ],
   "source": [
    "print(df['Score'].value_counts())"
   ]
  },
  {
   "cell_type": "code",
   "execution_count": 9,
   "id": "81135d97",
   "metadata": {},
   "outputs": [],
   "source": [
    "vectorizer = TfidfVectorizer(max_features=10000, ngram_range=(1,2))\n",
    "X = vectorizer.fit_transform(df['Cleaned_Text'])\n",
    "y = df['Score']"
   ]
  },
  {
   "cell_type": "code",
   "execution_count": 10,
   "id": "c9a47533",
   "metadata": {},
   "outputs": [],
   "source": [
    "X_train, X_test, y_train, y_test = train_test_split(X, y, test_size=0.2, random_state=42)"
   ]
  },
  {
   "cell_type": "code",
   "execution_count": 11,
   "id": "74b70e86",
   "metadata": {},
   "outputs": [
    {
     "data": {
      "text/plain": [
       "0.5137085137085137"
      ]
     },
     "execution_count": 11,
     "metadata": {},
     "output_type": "execute_result"
    }
   ],
   "source": [
    "clf = LogisticRegression(class_weight='balanced', max_iter=1000)\n",
    "clf.fit(X_train, y_train)\n",
    "clf.score(X_test, y_test)"
   ]
  },
  {
   "cell_type": "code",
   "execution_count": 12,
   "id": "88773a3b",
   "metadata": {},
   "outputs": [
    {
     "name": "stdout",
     "output_type": "stream",
     "text": [
      "              precision    recall  f1-score   support\n",
      "\n",
      "           1       0.59      0.65      0.62      4160\n",
      "           2       0.44      0.41      0.42      4204\n",
      "           3       0.43      0.40      0.41      4217\n",
      "           4       0.48      0.44      0.46      4188\n",
      "           5       0.61      0.69      0.64      4021\n",
      "\n",
      "    accuracy                           0.51     20790\n",
      "   macro avg       0.51      0.52      0.51     20790\n",
      "weighted avg       0.51      0.51      0.51     20790\n",
      "\n"
     ]
    }
   ],
   "source": [
    "y_pred = clf.predict(X_test)\n",
    "print(classification_report(y_test, y_pred))"
   ]
  },
  {
   "cell_type": "code",
   "execution_count": 19,
   "id": "857818c2",
   "metadata": {},
   "outputs": [
    {
     "name": "stdout",
     "output_type": "stream",
     "text": [
      "Model and vectorizer saved successfully.\n"
     ]
    }
   ],
   "source": [
    "model_dir = r'C:\\Users\\kevin\\Desktop\\VSCode\\Zecser\\models'\n",
    "os.makedirs(model_dir, exist_ok=True)\n",
    "joblib.dump(clf, os.path.join(model_dir, 'logistic_regression_model.pkl'))\n",
    "joblib.dump(vectorizer, os.path.join(model_dir, 'tfidf_vectorizer.pkl'))\n",
    "print(\"Model and vectorizer saved successfully.\")"
   ]
  }
 ],
 "metadata": {
  "kernelspec": {
   "display_name": "Python 3",
   "language": "python",
   "name": "python3"
  },
  "language_info": {
   "codemirror_mode": {
    "name": "ipython",
    "version": 3
   },
   "file_extension": ".py",
   "mimetype": "text/x-python",
   "name": "python",
   "nbconvert_exporter": "python",
   "pygments_lexer": "ipython3",
   "version": "3.12.1"
  }
 },
 "nbformat": 4,
 "nbformat_minor": 5
}
