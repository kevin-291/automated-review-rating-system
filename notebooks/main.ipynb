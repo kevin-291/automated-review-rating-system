{
 "cells": [
  {
   "cell_type": "code",
   "execution_count": 1,
   "id": "1357f4c4",
   "metadata": {},
   "outputs": [],
   "source": [
    "import numpy as np\n",
    "import pandas as pd\n",
    "import matplotlib.pyplot as plt\n",
    "import seaborn as sns"
   ]
  },
  {
   "cell_type": "code",
   "execution_count": 2,
   "id": "9850c143",
   "metadata": {},
   "outputs": [
    {
     "data": {
      "application/vnd.microsoft.datawrangler.viewer.v0+json": {
       "columns": [
        {
         "name": "index",
         "rawType": "int64",
         "type": "integer"
        },
        {
         "name": "Id",
         "rawType": "int64",
         "type": "integer"
        },
        {
         "name": "ProductId",
         "rawType": "object",
         "type": "string"
        },
        {
         "name": "UserId",
         "rawType": "object",
         "type": "string"
        },
        {
         "name": "ProfileName",
         "rawType": "object",
         "type": "string"
        },
        {
         "name": "HelpfulnessNumerator",
         "rawType": "int64",
         "type": "integer"
        },
        {
         "name": "HelpfulnessDenominator",
         "rawType": "int64",
         "type": "integer"
        },
        {
         "name": "Score",
         "rawType": "int64",
         "type": "integer"
        },
        {
         "name": "Time",
         "rawType": "int64",
         "type": "integer"
        },
        {
         "name": "Summary",
         "rawType": "object",
         "type": "string"
        },
        {
         "name": "Text",
         "rawType": "object",
         "type": "string"
        }
       ],
       "ref": "dd30ca88-7c16-452b-82ed-061957ecddf3",
       "rows": [
        [
         "0",
         "1",
         "B001E4KFG0",
         "A3SGXH7AUHU8GW",
         "delmartian",
         "1",
         "1",
         "5",
         "1303862400",
         "Good Quality Dog Food",
         "I have bought several of the Vitality canned dog food products and have found them all to be of good quality. The product looks more like a stew than a processed meat and it smells better. My Labrador is finicky and she appreciates this product better than  most."
        ],
        [
         "1",
         "2",
         "B00813GRG4",
         "A1D87F6ZCVE5NK",
         "dll pa",
         "0",
         "0",
         "1",
         "1346976000",
         "Not as Advertised",
         "Product arrived labeled as Jumbo Salted Peanuts...the peanuts were actually small sized unsalted. Not sure if this was an error or if the vendor intended to represent the product as \"Jumbo\"."
        ],
        [
         "2",
         "3",
         "B000LQOCH0",
         "ABXLMWJIXXAIN",
         "Natalia Corres \"Natalia Corres\"",
         "1",
         "1",
         "4",
         "1219017600",
         "\"Delight\" says it all",
         "This is a confection that has been around a few centuries.  It is a light, pillowy citrus gelatin with nuts - in this case Filberts. And it is cut into tiny squares and then liberally coated with powdered sugar.  And it is a tiny mouthful of heaven.  Not too chewy, and very flavorful.  I highly recommend this yummy treat.  If you are familiar with the story of C.S. Lewis' \"The Lion, The Witch, and The Wardrobe\" - this is the treat that seduces Edmund into selling out his Brother and Sisters to the Witch."
        ],
        [
         "3",
         "4",
         "B000UA0QIQ",
         "A395BORC6FGVXV",
         "Karl",
         "3",
         "3",
         "2",
         "1307923200",
         "Cough Medicine",
         "If you are looking for the secret ingredient in Robitussin I believe I have found it.  I got this in addition to the Root Beer Extract I ordered (which was good) and made some cherry soda.  The flavor is very medicinal."
        ],
        [
         "4",
         "5",
         "B006K2ZZ7K",
         "A1UQRSCLF8GW1T",
         "Michael D. Bigham \"M. Wassir\"",
         "0",
         "0",
         "5",
         "1350777600",
         "Great taffy",
         "Great taffy at a great price.  There was a wide assortment of yummy taffy.  Delivery was very quick.  If your a taffy lover, this is a deal."
        ]
       ],
       "shape": {
        "columns": 10,
        "rows": 5
       }
      },
      "text/html": [
       "<div>\n",
       "<style scoped>\n",
       "    .dataframe tbody tr th:only-of-type {\n",
       "        vertical-align: middle;\n",
       "    }\n",
       "\n",
       "    .dataframe tbody tr th {\n",
       "        vertical-align: top;\n",
       "    }\n",
       "\n",
       "    .dataframe thead th {\n",
       "        text-align: right;\n",
       "    }\n",
       "</style>\n",
       "<table border=\"1\" class=\"dataframe\">\n",
       "  <thead>\n",
       "    <tr style=\"text-align: right;\">\n",
       "      <th></th>\n",
       "      <th>Id</th>\n",
       "      <th>ProductId</th>\n",
       "      <th>UserId</th>\n",
       "      <th>ProfileName</th>\n",
       "      <th>HelpfulnessNumerator</th>\n",
       "      <th>HelpfulnessDenominator</th>\n",
       "      <th>Score</th>\n",
       "      <th>Time</th>\n",
       "      <th>Summary</th>\n",
       "      <th>Text</th>\n",
       "    </tr>\n",
       "  </thead>\n",
       "  <tbody>\n",
       "    <tr>\n",
       "      <th>0</th>\n",
       "      <td>1</td>\n",
       "      <td>B001E4KFG0</td>\n",
       "      <td>A3SGXH7AUHU8GW</td>\n",
       "      <td>delmartian</td>\n",
       "      <td>1</td>\n",
       "      <td>1</td>\n",
       "      <td>5</td>\n",
       "      <td>1303862400</td>\n",
       "      <td>Good Quality Dog Food</td>\n",
       "      <td>I have bought several of the Vitality canned d...</td>\n",
       "    </tr>\n",
       "    <tr>\n",
       "      <th>1</th>\n",
       "      <td>2</td>\n",
       "      <td>B00813GRG4</td>\n",
       "      <td>A1D87F6ZCVE5NK</td>\n",
       "      <td>dll pa</td>\n",
       "      <td>0</td>\n",
       "      <td>0</td>\n",
       "      <td>1</td>\n",
       "      <td>1346976000</td>\n",
       "      <td>Not as Advertised</td>\n",
       "      <td>Product arrived labeled as Jumbo Salted Peanut...</td>\n",
       "    </tr>\n",
       "    <tr>\n",
       "      <th>2</th>\n",
       "      <td>3</td>\n",
       "      <td>B000LQOCH0</td>\n",
       "      <td>ABXLMWJIXXAIN</td>\n",
       "      <td>Natalia Corres \"Natalia Corres\"</td>\n",
       "      <td>1</td>\n",
       "      <td>1</td>\n",
       "      <td>4</td>\n",
       "      <td>1219017600</td>\n",
       "      <td>\"Delight\" says it all</td>\n",
       "      <td>This is a confection that has been around a fe...</td>\n",
       "    </tr>\n",
       "    <tr>\n",
       "      <th>3</th>\n",
       "      <td>4</td>\n",
       "      <td>B000UA0QIQ</td>\n",
       "      <td>A395BORC6FGVXV</td>\n",
       "      <td>Karl</td>\n",
       "      <td>3</td>\n",
       "      <td>3</td>\n",
       "      <td>2</td>\n",
       "      <td>1307923200</td>\n",
       "      <td>Cough Medicine</td>\n",
       "      <td>If you are looking for the secret ingredient i...</td>\n",
       "    </tr>\n",
       "    <tr>\n",
       "      <th>4</th>\n",
       "      <td>5</td>\n",
       "      <td>B006K2ZZ7K</td>\n",
       "      <td>A1UQRSCLF8GW1T</td>\n",
       "      <td>Michael D. Bigham \"M. Wassir\"</td>\n",
       "      <td>0</td>\n",
       "      <td>0</td>\n",
       "      <td>5</td>\n",
       "      <td>1350777600</td>\n",
       "      <td>Great taffy</td>\n",
       "      <td>Great taffy at a great price.  There was a wid...</td>\n",
       "    </tr>\n",
       "  </tbody>\n",
       "</table>\n",
       "</div>"
      ],
      "text/plain": [
       "   Id   ProductId          UserId                      ProfileName  \\\n",
       "0   1  B001E4KFG0  A3SGXH7AUHU8GW                       delmartian   \n",
       "1   2  B00813GRG4  A1D87F6ZCVE5NK                           dll pa   \n",
       "2   3  B000LQOCH0   ABXLMWJIXXAIN  Natalia Corres \"Natalia Corres\"   \n",
       "3   4  B000UA0QIQ  A395BORC6FGVXV                             Karl   \n",
       "4   5  B006K2ZZ7K  A1UQRSCLF8GW1T    Michael D. Bigham \"M. Wassir\"   \n",
       "\n",
       "   HelpfulnessNumerator  HelpfulnessDenominator  Score        Time  \\\n",
       "0                     1                       1      5  1303862400   \n",
       "1                     0                       0      1  1346976000   \n",
       "2                     1                       1      4  1219017600   \n",
       "3                     3                       3      2  1307923200   \n",
       "4                     0                       0      5  1350777600   \n",
       "\n",
       "                 Summary                                               Text  \n",
       "0  Good Quality Dog Food  I have bought several of the Vitality canned d...  \n",
       "1      Not as Advertised  Product arrived labeled as Jumbo Salted Peanut...  \n",
       "2  \"Delight\" says it all  This is a confection that has been around a fe...  \n",
       "3         Cough Medicine  If you are looking for the secret ingredient i...  \n",
       "4            Great taffy  Great taffy at a great price.  There was a wid...  "
      ]
     },
     "execution_count": 2,
     "metadata": {},
     "output_type": "execute_result"
    }
   ],
   "source": [
    "df = pd.read_csv(r'C:\\Users\\kevin\\Desktop\\VSCode\\Zecser\\data\\kaggle\\Reviews.csv')\n",
    "df.head()"
   ]
  },
  {
   "cell_type": "code",
   "execution_count": 3,
   "id": "f3c61192",
   "metadata": {},
   "outputs": [
    {
     "data": {
      "application/vnd.microsoft.datawrangler.viewer.v0+json": {
       "columns": [
        {
         "name": "index",
         "rawType": "int64",
         "type": "integer"
        },
        {
         "name": "Id",
         "rawType": "int64",
         "type": "integer"
        },
        {
         "name": "ProductId",
         "rawType": "object",
         "type": "string"
        },
        {
         "name": "UserId",
         "rawType": "object",
         "type": "string"
        },
        {
         "name": "ProfileName",
         "rawType": "object",
         "type": "string"
        },
        {
         "name": "HelpfulnessNumerator",
         "rawType": "int64",
         "type": "integer"
        },
        {
         "name": "HelpfulnessDenominator",
         "rawType": "int64",
         "type": "integer"
        },
        {
         "name": "Score",
         "rawType": "int64",
         "type": "integer"
        },
        {
         "name": "Time",
         "rawType": "int64",
         "type": "integer"
        },
        {
         "name": "Summary",
         "rawType": "object",
         "type": "string"
        },
        {
         "name": "Text",
         "rawType": "object",
         "type": "string"
        }
       ],
       "ref": "9516cbeb-56fb-41a2-b4ae-989bf01227fa",
       "rows": [
        [
         "568449",
         "568450",
         "B001EO7N10",
         "A28KG5XORO54AY",
         "Lettie D. Carter",
         "0",
         "0",
         "5",
         "1299628800",
         "Will not do without",
         "Great for sesame chicken..this is a good if not better than resturants I have eaten at..My husband loved it..will find other recipes to use this in.."
        ],
        [
         "568450",
         "568451",
         "B003S1WTCU",
         "A3I8AFVPEE8KI5",
         "R. Sawyer",
         "0",
         "0",
         "2",
         "1331251200",
         "disappointed",
         "I'm disappointed with the flavor. The chocolate notes are especially weak. Milk thickens it but the flavor still disappoints. This was worth a try but I'll never buy again. I will use what's left, which will be gone in no time thanks to the small cans."
        ],
        [
         "568451",
         "568452",
         "B004I613EE",
         "A121AA1GQV751Z",
         "pksd \"pk_007\"",
         "2",
         "2",
         "5",
         "1329782400",
         "Perfect for our maltipoo",
         "These stars are small, so you can give 10-15 of those in one training session.  I tried to train our dog with \"Ceaser dog treats\",  it just made our puppy hyper.  If you compare the ingredients, you will know why.  Little stars has just basic food ingredients without any preservatives and food coloring.  Sweet potato flavor also did not make my hand smell like dog food."
        ],
        [
         "568452",
         "568453",
         "B004I613EE",
         "A3IBEVCTXKNOH",
         "Kathy A. Welch \"katwel\"",
         "1",
         "1",
         "5",
         "1331596800",
         "Favorite Training and reward treat",
         "These are the BEST treats for training and rewarding your dog for being good while grooming.  Lower in calories and loved by all the doggies.  Sweet potatoes seem to be their favorite Wet Noses treat!"
        ],
        [
         "568453",
         "568454",
         "B001LR2CU2",
         "A3LGQPJCZVL9UC",
         "srfell17",
         "0",
         "0",
         "5",
         "1338422400",
         "Great Honey",
         "I am very satisfied ,product is as advertised, I use it on cereal, with raw vinegar, and as a general sweetner."
        ]
       ],
       "shape": {
        "columns": 10,
        "rows": 5
       }
      },
      "text/html": [
       "<div>\n",
       "<style scoped>\n",
       "    .dataframe tbody tr th:only-of-type {\n",
       "        vertical-align: middle;\n",
       "    }\n",
       "\n",
       "    .dataframe tbody tr th {\n",
       "        vertical-align: top;\n",
       "    }\n",
       "\n",
       "    .dataframe thead th {\n",
       "        text-align: right;\n",
       "    }\n",
       "</style>\n",
       "<table border=\"1\" class=\"dataframe\">\n",
       "  <thead>\n",
       "    <tr style=\"text-align: right;\">\n",
       "      <th></th>\n",
       "      <th>Id</th>\n",
       "      <th>ProductId</th>\n",
       "      <th>UserId</th>\n",
       "      <th>ProfileName</th>\n",
       "      <th>HelpfulnessNumerator</th>\n",
       "      <th>HelpfulnessDenominator</th>\n",
       "      <th>Score</th>\n",
       "      <th>Time</th>\n",
       "      <th>Summary</th>\n",
       "      <th>Text</th>\n",
       "    </tr>\n",
       "  </thead>\n",
       "  <tbody>\n",
       "    <tr>\n",
       "      <th>568449</th>\n",
       "      <td>568450</td>\n",
       "      <td>B001EO7N10</td>\n",
       "      <td>A28KG5XORO54AY</td>\n",
       "      <td>Lettie D. Carter</td>\n",
       "      <td>0</td>\n",
       "      <td>0</td>\n",
       "      <td>5</td>\n",
       "      <td>1299628800</td>\n",
       "      <td>Will not do without</td>\n",
       "      <td>Great for sesame chicken..this is a good if no...</td>\n",
       "    </tr>\n",
       "    <tr>\n",
       "      <th>568450</th>\n",
       "      <td>568451</td>\n",
       "      <td>B003S1WTCU</td>\n",
       "      <td>A3I8AFVPEE8KI5</td>\n",
       "      <td>R. Sawyer</td>\n",
       "      <td>0</td>\n",
       "      <td>0</td>\n",
       "      <td>2</td>\n",
       "      <td>1331251200</td>\n",
       "      <td>disappointed</td>\n",
       "      <td>I'm disappointed with the flavor. The chocolat...</td>\n",
       "    </tr>\n",
       "    <tr>\n",
       "      <th>568451</th>\n",
       "      <td>568452</td>\n",
       "      <td>B004I613EE</td>\n",
       "      <td>A121AA1GQV751Z</td>\n",
       "      <td>pksd \"pk_007\"</td>\n",
       "      <td>2</td>\n",
       "      <td>2</td>\n",
       "      <td>5</td>\n",
       "      <td>1329782400</td>\n",
       "      <td>Perfect for our maltipoo</td>\n",
       "      <td>These stars are small, so you can give 10-15 o...</td>\n",
       "    </tr>\n",
       "    <tr>\n",
       "      <th>568452</th>\n",
       "      <td>568453</td>\n",
       "      <td>B004I613EE</td>\n",
       "      <td>A3IBEVCTXKNOH</td>\n",
       "      <td>Kathy A. Welch \"katwel\"</td>\n",
       "      <td>1</td>\n",
       "      <td>1</td>\n",
       "      <td>5</td>\n",
       "      <td>1331596800</td>\n",
       "      <td>Favorite Training and reward treat</td>\n",
       "      <td>These are the BEST treats for training and rew...</td>\n",
       "    </tr>\n",
       "    <tr>\n",
       "      <th>568453</th>\n",
       "      <td>568454</td>\n",
       "      <td>B001LR2CU2</td>\n",
       "      <td>A3LGQPJCZVL9UC</td>\n",
       "      <td>srfell17</td>\n",
       "      <td>0</td>\n",
       "      <td>0</td>\n",
       "      <td>5</td>\n",
       "      <td>1338422400</td>\n",
       "      <td>Great Honey</td>\n",
       "      <td>I am very satisfied ,product is as advertised,...</td>\n",
       "    </tr>\n",
       "  </tbody>\n",
       "</table>\n",
       "</div>"
      ],
      "text/plain": [
       "            Id   ProductId          UserId              ProfileName  \\\n",
       "568449  568450  B001EO7N10  A28KG5XORO54AY         Lettie D. Carter   \n",
       "568450  568451  B003S1WTCU  A3I8AFVPEE8KI5                R. Sawyer   \n",
       "568451  568452  B004I613EE  A121AA1GQV751Z            pksd \"pk_007\"   \n",
       "568452  568453  B004I613EE   A3IBEVCTXKNOH  Kathy A. Welch \"katwel\"   \n",
       "568453  568454  B001LR2CU2  A3LGQPJCZVL9UC                 srfell17   \n",
       "\n",
       "        HelpfulnessNumerator  HelpfulnessDenominator  Score        Time  \\\n",
       "568449                     0                       0      5  1299628800   \n",
       "568450                     0                       0      2  1331251200   \n",
       "568451                     2                       2      5  1329782400   \n",
       "568452                     1                       1      5  1331596800   \n",
       "568453                     0                       0      5  1338422400   \n",
       "\n",
       "                                   Summary  \\\n",
       "568449                 Will not do without   \n",
       "568450                        disappointed   \n",
       "568451            Perfect for our maltipoo   \n",
       "568452  Favorite Training and reward treat   \n",
       "568453                         Great Honey   \n",
       "\n",
       "                                                     Text  \n",
       "568449  Great for sesame chicken..this is a good if no...  \n",
       "568450  I'm disappointed with the flavor. The chocolat...  \n",
       "568451  These stars are small, so you can give 10-15 o...  \n",
       "568452  These are the BEST treats for training and rew...  \n",
       "568453  I am very satisfied ,product is as advertised,...  "
      ]
     },
     "execution_count": 3,
     "metadata": {},
     "output_type": "execute_result"
    }
   ],
   "source": [
    "df.tail()"
   ]
  },
  {
   "cell_type": "code",
   "execution_count": 4,
   "id": "d621aff6",
   "metadata": {},
   "outputs": [
    {
     "data": {
      "application/vnd.microsoft.datawrangler.viewer.v0+json": {
       "columns": [
        {
         "name": "index",
         "rawType": "int64",
         "type": "integer"
        },
        {
         "name": "Id",
         "rawType": "int64",
         "type": "integer"
        },
        {
         "name": "ProductId",
         "rawType": "object",
         "type": "string"
        },
        {
         "name": "UserId",
         "rawType": "object",
         "type": "string"
        },
        {
         "name": "ProfileName",
         "rawType": "object",
         "type": "string"
        },
        {
         "name": "HelpfulnessNumerator",
         "rawType": "int64",
         "type": "integer"
        },
        {
         "name": "HelpfulnessDenominator",
         "rawType": "int64",
         "type": "integer"
        },
        {
         "name": "Score",
         "rawType": "int64",
         "type": "integer"
        },
        {
         "name": "Time",
         "rawType": "int64",
         "type": "integer"
        },
        {
         "name": "Summary",
         "rawType": "object",
         "type": "string"
        },
        {
         "name": "Text",
         "rawType": "object",
         "type": "string"
        }
       ],
       "ref": "be17bdaf-ffd8-416f-ad1b-c7c10f8a4345",
       "rows": [
        [
         "434765",
         "434766",
         "B005INYQTA",
         "AZ4VKFF136FKR",
         "T. Kinney",
         "1",
         "1",
         "4",
         "1322611200",
         "Hard to find locally",
         "For whatever reason, these are disappearing from grocery store shelves. When I don't want to take the time to saute fresh ones, these are a convenient addition to pasta sauces, etc. The brands I'm finding locally are either the grocery store brand or Giorgio, both of which have a peculiar flavor to them."
        ],
        [
         "314897",
         "314898",
         "B000H25WMC",
         "A2250RLZP82JLD",
         "JanRDmom",
         "0",
         "0",
         "5",
         "1205280000",
         "Great soup mix",
         "I have used this soup mix for years. I add 1# of cooked ground beef and the 8 ounces of tomato sauce suggested. I also often add either frozen green beans or okra for even more vegetables. Good last minute winter dinner idea, even for kids and/or company."
        ],
        [
         "160783",
         "160784",
         "B000FKMNK0",
         "A2ADOOCNWA8GQJ",
         "S. Kiss",
         "0",
         "0",
         "5",
         "1244592000",
         "Altoids",
         "One of my favorite Altoid flavors.  I can not find these in any of my local stores - only peppermint and creme de menthe - yuck!"
        ],
        [
         "150365",
         "150366",
         "B003VG0MYY",
         "A3Q9URC0MJUVVN",
         "Brent Fardette",
         "2",
         "4",
         "1",
         "1336348800",
         "tasted disgusting",
         "threw the whole order out. I had such high hopes since I had heard seaweed was so good for you. It made me gag."
        ],
        [
         "294461",
         "294462",
         "B002MAX09O",
         "A1GM5ZLT5Q1P79",
         "elizabeth c.",
         "0",
         "0",
         "1",
         "1302912000",
         "Awful",
         "Since this comes in a 3 pack, I made three batches over the course of a month and a half, and each time we ate these muffins, they made me and my boyfriend bloated and sick feeling afterwards."
        ]
       ],
       "shape": {
        "columns": 10,
        "rows": 5
       }
      },
      "text/html": [
       "<div>\n",
       "<style scoped>\n",
       "    .dataframe tbody tr th:only-of-type {\n",
       "        vertical-align: middle;\n",
       "    }\n",
       "\n",
       "    .dataframe tbody tr th {\n",
       "        vertical-align: top;\n",
       "    }\n",
       "\n",
       "    .dataframe thead th {\n",
       "        text-align: right;\n",
       "    }\n",
       "</style>\n",
       "<table border=\"1\" class=\"dataframe\">\n",
       "  <thead>\n",
       "    <tr style=\"text-align: right;\">\n",
       "      <th></th>\n",
       "      <th>Id</th>\n",
       "      <th>ProductId</th>\n",
       "      <th>UserId</th>\n",
       "      <th>ProfileName</th>\n",
       "      <th>HelpfulnessNumerator</th>\n",
       "      <th>HelpfulnessDenominator</th>\n",
       "      <th>Score</th>\n",
       "      <th>Time</th>\n",
       "      <th>Summary</th>\n",
       "      <th>Text</th>\n",
       "    </tr>\n",
       "  </thead>\n",
       "  <tbody>\n",
       "    <tr>\n",
       "      <th>434765</th>\n",
       "      <td>434766</td>\n",
       "      <td>B005INYQTA</td>\n",
       "      <td>AZ4VKFF136FKR</td>\n",
       "      <td>T. Kinney</td>\n",
       "      <td>1</td>\n",
       "      <td>1</td>\n",
       "      <td>4</td>\n",
       "      <td>1322611200</td>\n",
       "      <td>Hard to find locally</td>\n",
       "      <td>For whatever reason, these are disappearing fr...</td>\n",
       "    </tr>\n",
       "    <tr>\n",
       "      <th>314897</th>\n",
       "      <td>314898</td>\n",
       "      <td>B000H25WMC</td>\n",
       "      <td>A2250RLZP82JLD</td>\n",
       "      <td>JanRDmom</td>\n",
       "      <td>0</td>\n",
       "      <td>0</td>\n",
       "      <td>5</td>\n",
       "      <td>1205280000</td>\n",
       "      <td>Great soup mix</td>\n",
       "      <td>I have used this soup mix for years. I add 1# ...</td>\n",
       "    </tr>\n",
       "    <tr>\n",
       "      <th>160783</th>\n",
       "      <td>160784</td>\n",
       "      <td>B000FKMNK0</td>\n",
       "      <td>A2ADOOCNWA8GQJ</td>\n",
       "      <td>S. Kiss</td>\n",
       "      <td>0</td>\n",
       "      <td>0</td>\n",
       "      <td>5</td>\n",
       "      <td>1244592000</td>\n",
       "      <td>Altoids</td>\n",
       "      <td>One of my favorite Altoid flavors.  I can not ...</td>\n",
       "    </tr>\n",
       "    <tr>\n",
       "      <th>150365</th>\n",
       "      <td>150366</td>\n",
       "      <td>B003VG0MYY</td>\n",
       "      <td>A3Q9URC0MJUVVN</td>\n",
       "      <td>Brent Fardette</td>\n",
       "      <td>2</td>\n",
       "      <td>4</td>\n",
       "      <td>1</td>\n",
       "      <td>1336348800</td>\n",
       "      <td>tasted disgusting</td>\n",
       "      <td>threw the whole order out. I had such high hop...</td>\n",
       "    </tr>\n",
       "    <tr>\n",
       "      <th>294461</th>\n",
       "      <td>294462</td>\n",
       "      <td>B002MAX09O</td>\n",
       "      <td>A1GM5ZLT5Q1P79</td>\n",
       "      <td>elizabeth c.</td>\n",
       "      <td>0</td>\n",
       "      <td>0</td>\n",
       "      <td>1</td>\n",
       "      <td>1302912000</td>\n",
       "      <td>Awful</td>\n",
       "      <td>Since this comes in a 3 pack, I made three bat...</td>\n",
       "    </tr>\n",
       "  </tbody>\n",
       "</table>\n",
       "</div>"
      ],
      "text/plain": [
       "            Id   ProductId          UserId     ProfileName  \\\n",
       "434765  434766  B005INYQTA   AZ4VKFF136FKR       T. Kinney   \n",
       "314897  314898  B000H25WMC  A2250RLZP82JLD        JanRDmom   \n",
       "160783  160784  B000FKMNK0  A2ADOOCNWA8GQJ         S. Kiss   \n",
       "150365  150366  B003VG0MYY  A3Q9URC0MJUVVN  Brent Fardette   \n",
       "294461  294462  B002MAX09O  A1GM5ZLT5Q1P79    elizabeth c.   \n",
       "\n",
       "        HelpfulnessNumerator  HelpfulnessDenominator  Score        Time  \\\n",
       "434765                     1                       1      4  1322611200   \n",
       "314897                     0                       0      5  1205280000   \n",
       "160783                     0                       0      5  1244592000   \n",
       "150365                     2                       4      1  1336348800   \n",
       "294461                     0                       0      1  1302912000   \n",
       "\n",
       "                     Summary  \\\n",
       "434765  Hard to find locally   \n",
       "314897        Great soup mix   \n",
       "160783               Altoids   \n",
       "150365     tasted disgusting   \n",
       "294461                 Awful   \n",
       "\n",
       "                                                     Text  \n",
       "434765  For whatever reason, these are disappearing fr...  \n",
       "314897  I have used this soup mix for years. I add 1# ...  \n",
       "160783  One of my favorite Altoid flavors.  I can not ...  \n",
       "150365  threw the whole order out. I had such high hop...  \n",
       "294461  Since this comes in a 3 pack, I made three bat...  "
      ]
     },
     "execution_count": 4,
     "metadata": {},
     "output_type": "execute_result"
    }
   ],
   "source": [
    "df.sample(5)"
   ]
  },
  {
   "cell_type": "code",
   "execution_count": 5,
   "id": "6ef82caf",
   "metadata": {},
   "outputs": [
    {
     "data": {
      "text/plain": [
       "(568454, 10)"
      ]
     },
     "execution_count": 5,
     "metadata": {},
     "output_type": "execute_result"
    }
   ],
   "source": [
    "df.shape"
   ]
  },
  {
   "cell_type": "code",
   "execution_count": 6,
   "id": "6e3e027f",
   "metadata": {},
   "outputs": [
    {
     "data": {
      "text/plain": [
       "Index(['Id', 'ProductId', 'UserId', 'ProfileName', 'HelpfulnessNumerator',\n",
       "       'HelpfulnessDenominator', 'Score', 'Time', 'Summary', 'Text'],\n",
       "      dtype='object')"
      ]
     },
     "execution_count": 6,
     "metadata": {},
     "output_type": "execute_result"
    }
   ],
   "source": [
    "df.columns"
   ]
  },
  {
   "cell_type": "code",
   "execution_count": 7,
   "id": "560552b0",
   "metadata": {},
   "outputs": [
    {
     "name": "stdout",
     "output_type": "stream",
     "text": [
      "<class 'pandas.core.frame.DataFrame'>\n",
      "RangeIndex: 568454 entries, 0 to 568453\n",
      "Data columns (total 10 columns):\n",
      " #   Column                  Non-Null Count   Dtype \n",
      "---  ------                  --------------   ----- \n",
      " 0   Id                      568454 non-null  int64 \n",
      " 1   ProductId               568454 non-null  object\n",
      " 2   UserId                  568454 non-null  object\n",
      " 3   ProfileName             568428 non-null  object\n",
      " 4   HelpfulnessNumerator    568454 non-null  int64 \n",
      " 5   HelpfulnessDenominator  568454 non-null  int64 \n",
      " 6   Score                   568454 non-null  int64 \n",
      " 7   Time                    568454 non-null  int64 \n",
      " 8   Summary                 568427 non-null  object\n",
      " 9   Text                    568454 non-null  object\n",
      "dtypes: int64(5), object(5)\n",
      "memory usage: 43.4+ MB\n"
     ]
    }
   ],
   "source": [
    "df.info()"
   ]
  },
  {
   "cell_type": "code",
   "execution_count": 8,
   "id": "a5335143",
   "metadata": {},
   "outputs": [
    {
     "data": {
      "application/vnd.microsoft.datawrangler.viewer.v0+json": {
       "columns": [
        {
         "name": "index",
         "rawType": "object",
         "type": "string"
        },
        {
         "name": "count",
         "rawType": "float64",
         "type": "float"
        },
        {
         "name": "mean",
         "rawType": "float64",
         "type": "float"
        },
        {
         "name": "std",
         "rawType": "float64",
         "type": "float"
        },
        {
         "name": "min",
         "rawType": "float64",
         "type": "float"
        },
        {
         "name": "25%",
         "rawType": "float64",
         "type": "float"
        },
        {
         "name": "50%",
         "rawType": "float64",
         "type": "float"
        },
        {
         "name": "75%",
         "rawType": "float64",
         "type": "float"
        },
        {
         "name": "max",
         "rawType": "float64",
         "type": "float"
        }
       ],
       "ref": "f1be9528-d998-4d2f-acd9-68918bc27d91",
       "rows": [
        [
         "Id",
         "568454.0",
         "284227.5",
         "164098.67929846357",
         "1.0",
         "142114.25",
         "284227.5",
         "426340.75",
         "568454.0"
        ],
        [
         "HelpfulnessNumerator",
         "568454.0",
         "1.7438174416927315",
         "7.63651270682078",
         "0.0",
         "0.0",
         "0.0",
         "2.0",
         "866.0"
        ],
        [
         "HelpfulnessDenominator",
         "568454.0",
         "2.2288100708236724",
         "8.289740293185584",
         "0.0",
         "0.0",
         "1.0",
         "2.0",
         "923.0"
        ],
        [
         "Score",
         "568454.0",
         "4.183198640523243",
         "1.3104360248243063",
         "1.0",
         "4.0",
         "5.0",
         "5.0",
         "5.0"
        ],
        [
         "Time",
         "568454.0",
         "1296256604.9024196",
         "48043312.33241568",
         "939340800.0",
         "1271289600.0",
         "1311120000.0",
         "1332720000.0",
         "1351209600.0"
        ]
       ],
       "shape": {
        "columns": 8,
        "rows": 5
       }
      },
      "text/html": [
       "<div>\n",
       "<style scoped>\n",
       "    .dataframe tbody tr th:only-of-type {\n",
       "        vertical-align: middle;\n",
       "    }\n",
       "\n",
       "    .dataframe tbody tr th {\n",
       "        vertical-align: top;\n",
       "    }\n",
       "\n",
       "    .dataframe thead th {\n",
       "        text-align: right;\n",
       "    }\n",
       "</style>\n",
       "<table border=\"1\" class=\"dataframe\">\n",
       "  <thead>\n",
       "    <tr style=\"text-align: right;\">\n",
       "      <th></th>\n",
       "      <th>count</th>\n",
       "      <th>mean</th>\n",
       "      <th>std</th>\n",
       "      <th>min</th>\n",
       "      <th>25%</th>\n",
       "      <th>50%</th>\n",
       "      <th>75%</th>\n",
       "      <th>max</th>\n",
       "    </tr>\n",
       "  </thead>\n",
       "  <tbody>\n",
       "    <tr>\n",
       "      <th>Id</th>\n",
       "      <td>568454.0</td>\n",
       "      <td>2.842275e+05</td>\n",
       "      <td>1.640987e+05</td>\n",
       "      <td>1.0</td>\n",
       "      <td>1.421142e+05</td>\n",
       "      <td>2.842275e+05</td>\n",
       "      <td>4.263408e+05</td>\n",
       "      <td>5.684540e+05</td>\n",
       "    </tr>\n",
       "    <tr>\n",
       "      <th>HelpfulnessNumerator</th>\n",
       "      <td>568454.0</td>\n",
       "      <td>1.743817e+00</td>\n",
       "      <td>7.636513e+00</td>\n",
       "      <td>0.0</td>\n",
       "      <td>0.000000e+00</td>\n",
       "      <td>0.000000e+00</td>\n",
       "      <td>2.000000e+00</td>\n",
       "      <td>8.660000e+02</td>\n",
       "    </tr>\n",
       "    <tr>\n",
       "      <th>HelpfulnessDenominator</th>\n",
       "      <td>568454.0</td>\n",
       "      <td>2.228810e+00</td>\n",
       "      <td>8.289740e+00</td>\n",
       "      <td>0.0</td>\n",
       "      <td>0.000000e+00</td>\n",
       "      <td>1.000000e+00</td>\n",
       "      <td>2.000000e+00</td>\n",
       "      <td>9.230000e+02</td>\n",
       "    </tr>\n",
       "    <tr>\n",
       "      <th>Score</th>\n",
       "      <td>568454.0</td>\n",
       "      <td>4.183199e+00</td>\n",
       "      <td>1.310436e+00</td>\n",
       "      <td>1.0</td>\n",
       "      <td>4.000000e+00</td>\n",
       "      <td>5.000000e+00</td>\n",
       "      <td>5.000000e+00</td>\n",
       "      <td>5.000000e+00</td>\n",
       "    </tr>\n",
       "    <tr>\n",
       "      <th>Time</th>\n",
       "      <td>568454.0</td>\n",
       "      <td>1.296257e+09</td>\n",
       "      <td>4.804331e+07</td>\n",
       "      <td>939340800.0</td>\n",
       "      <td>1.271290e+09</td>\n",
       "      <td>1.311120e+09</td>\n",
       "      <td>1.332720e+09</td>\n",
       "      <td>1.351210e+09</td>\n",
       "    </tr>\n",
       "  </tbody>\n",
       "</table>\n",
       "</div>"
      ],
      "text/plain": [
       "                           count          mean           std          min  \\\n",
       "Id                      568454.0  2.842275e+05  1.640987e+05          1.0   \n",
       "HelpfulnessNumerator    568454.0  1.743817e+00  7.636513e+00          0.0   \n",
       "HelpfulnessDenominator  568454.0  2.228810e+00  8.289740e+00          0.0   \n",
       "Score                   568454.0  4.183199e+00  1.310436e+00          1.0   \n",
       "Time                    568454.0  1.296257e+09  4.804331e+07  939340800.0   \n",
       "\n",
       "                                 25%           50%           75%           max  \n",
       "Id                      1.421142e+05  2.842275e+05  4.263408e+05  5.684540e+05  \n",
       "HelpfulnessNumerator    0.000000e+00  0.000000e+00  2.000000e+00  8.660000e+02  \n",
       "HelpfulnessDenominator  0.000000e+00  1.000000e+00  2.000000e+00  9.230000e+02  \n",
       "Score                   4.000000e+00  5.000000e+00  5.000000e+00  5.000000e+00  \n",
       "Time                    1.271290e+09  1.311120e+09  1.332720e+09  1.351210e+09  "
      ]
     },
     "execution_count": 8,
     "metadata": {},
     "output_type": "execute_result"
    }
   ],
   "source": [
    "df.describe().T"
   ]
  },
  {
   "cell_type": "code",
   "execution_count": 9,
   "id": "62eb1de1",
   "metadata": {},
   "outputs": [
    {
     "data": {
      "application/vnd.microsoft.datawrangler.viewer.v0+json": {
       "columns": [
        {
         "name": "index",
         "rawType": "object",
         "type": "string"
        },
        {
         "name": "0",
         "rawType": "int64",
         "type": "integer"
        }
       ],
       "ref": "388a8a51-2edd-4f0f-a026-08f32b12d871",
       "rows": [
        [
         "Id",
         "0"
        ],
        [
         "ProductId",
         "0"
        ],
        [
         "UserId",
         "0"
        ],
        [
         "ProfileName",
         "26"
        ],
        [
         "HelpfulnessNumerator",
         "0"
        ],
        [
         "HelpfulnessDenominator",
         "0"
        ],
        [
         "Score",
         "0"
        ],
        [
         "Time",
         "0"
        ],
        [
         "Summary",
         "27"
        ],
        [
         "Text",
         "0"
        ]
       ],
       "shape": {
        "columns": 1,
        "rows": 10
       }
      },
      "text/plain": [
       "Id                         0\n",
       "ProductId                  0\n",
       "UserId                     0\n",
       "ProfileName               26\n",
       "HelpfulnessNumerator       0\n",
       "HelpfulnessDenominator     0\n",
       "Score                      0\n",
       "Time                       0\n",
       "Summary                   27\n",
       "Text                       0\n",
       "dtype: int64"
      ]
     },
     "execution_count": 9,
     "metadata": {},
     "output_type": "execute_result"
    }
   ],
   "source": [
    "df.isnull().sum()"
   ]
  },
  {
   "cell_type": "code",
   "execution_count": 10,
   "id": "99695fc0",
   "metadata": {},
   "outputs": [
    {
     "data": {
      "application/vnd.microsoft.datawrangler.viewer.v0+json": {
       "columns": [
        {
         "name": "index",
         "rawType": "object",
         "type": "string"
        },
        {
         "name": "0",
         "rawType": "int64",
         "type": "integer"
        }
       ],
       "ref": "04a67331-5b2c-4b65-a23a-befff5181faf",
       "rows": [
        [
         "Id",
         "0"
        ],
        [
         "ProductId",
         "0"
        ],
        [
         "UserId",
         "0"
        ],
        [
         "ProfileName",
         "0"
        ],
        [
         "HelpfulnessNumerator",
         "0"
        ],
        [
         "HelpfulnessDenominator",
         "0"
        ],
        [
         "Score",
         "0"
        ],
        [
         "Time",
         "0"
        ],
        [
         "Summary",
         "0"
        ],
        [
         "Text",
         "0"
        ]
       ],
       "shape": {
        "columns": 1,
        "rows": 10
       }
      },
      "text/plain": [
       "Id                        0\n",
       "ProductId                 0\n",
       "UserId                    0\n",
       "ProfileName               0\n",
       "HelpfulnessNumerator      0\n",
       "HelpfulnessDenominator    0\n",
       "Score                     0\n",
       "Time                      0\n",
       "Summary                   0\n",
       "Text                      0\n",
       "dtype: int64"
      ]
     },
     "execution_count": 10,
     "metadata": {},
     "output_type": "execute_result"
    }
   ],
   "source": [
    "df.dropna(inplace=True)\n",
    "df.isnull().sum()"
   ]
  },
  {
   "cell_type": "code",
   "execution_count": 11,
   "id": "b360ccf6",
   "metadata": {},
   "outputs": [
    {
     "data": {
      "text/plain": [
       "0"
      ]
     },
     "execution_count": 11,
     "metadata": {},
     "output_type": "execute_result"
    }
   ],
   "source": [
    "df.duplicated().sum()"
   ]
  },
  {
   "cell_type": "code",
   "execution_count": 12,
   "id": "2f75a6ca",
   "metadata": {},
   "outputs": [
    {
     "data": {
      "application/vnd.microsoft.datawrangler.viewer.v0+json": {
       "columns": [
        {
         "name": "index",
         "rawType": "int64",
         "type": "integer"
        },
        {
         "name": "Summary",
         "rawType": "object",
         "type": "string"
        },
        {
         "name": "Score",
         "rawType": "int64",
         "type": "integer"
        }
       ],
       "ref": "90b3d240-41de-4824-a0a1-8a2cbcd4eace",
       "rows": [
        [
         "0",
         "Good Quality Dog Food",
         "5"
        ],
        [
         "1",
         "Not as Advertised",
         "1"
        ],
        [
         "2",
         "\"Delight\" says it all",
         "4"
        ],
        [
         "3",
         "Cough Medicine",
         "2"
        ],
        [
         "4",
         "Great taffy",
         "5"
        ]
       ],
       "shape": {
        "columns": 2,
        "rows": 5
       }
      },
      "text/html": [
       "<div>\n",
       "<style scoped>\n",
       "    .dataframe tbody tr th:only-of-type {\n",
       "        vertical-align: middle;\n",
       "    }\n",
       "\n",
       "    .dataframe tbody tr th {\n",
       "        vertical-align: top;\n",
       "    }\n",
       "\n",
       "    .dataframe thead th {\n",
       "        text-align: right;\n",
       "    }\n",
       "</style>\n",
       "<table border=\"1\" class=\"dataframe\">\n",
       "  <thead>\n",
       "    <tr style=\"text-align: right;\">\n",
       "      <th></th>\n",
       "      <th>Summary</th>\n",
       "      <th>Score</th>\n",
       "    </tr>\n",
       "  </thead>\n",
       "  <tbody>\n",
       "    <tr>\n",
       "      <th>0</th>\n",
       "      <td>Good Quality Dog Food</td>\n",
       "      <td>5</td>\n",
       "    </tr>\n",
       "    <tr>\n",
       "      <th>1</th>\n",
       "      <td>Not as Advertised</td>\n",
       "      <td>1</td>\n",
       "    </tr>\n",
       "    <tr>\n",
       "      <th>2</th>\n",
       "      <td>\"Delight\" says it all</td>\n",
       "      <td>4</td>\n",
       "    </tr>\n",
       "    <tr>\n",
       "      <th>3</th>\n",
       "      <td>Cough Medicine</td>\n",
       "      <td>2</td>\n",
       "    </tr>\n",
       "    <tr>\n",
       "      <th>4</th>\n",
       "      <td>Great taffy</td>\n",
       "      <td>5</td>\n",
       "    </tr>\n",
       "  </tbody>\n",
       "</table>\n",
       "</div>"
      ],
      "text/plain": [
       "                 Summary  Score\n",
       "0  Good Quality Dog Food      5\n",
       "1      Not as Advertised      1\n",
       "2  \"Delight\" says it all      4\n",
       "3         Cough Medicine      2\n",
       "4            Great taffy      5"
      ]
     },
     "execution_count": 12,
     "metadata": {},
     "output_type": "execute_result"
    }
   ],
   "source": [
    "df[['Summary', 'Score']].head()"
   ]
  },
  {
   "cell_type": "code",
   "execution_count": 13,
   "id": "f59648a8",
   "metadata": {},
   "outputs": [
    {
     "data": {
      "application/vnd.microsoft.datawrangler.viewer.v0+json": {
       "columns": [
        {
         "name": "index",
         "rawType": "int64",
         "type": "integer"
        },
        {
         "name": "Id",
         "rawType": "int64",
         "type": "integer"
        },
        {
         "name": "ProductId",
         "rawType": "object",
         "type": "string"
        },
        {
         "name": "UserId",
         "rawType": "object",
         "type": "string"
        },
        {
         "name": "ProfileName",
         "rawType": "object",
         "type": "string"
        },
        {
         "name": "HelpfulnessNumerator",
         "rawType": "int64",
         "type": "integer"
        },
        {
         "name": "HelpfulnessDenominator",
         "rawType": "int64",
         "type": "integer"
        },
        {
         "name": "Score",
         "rawType": "int64",
         "type": "integer"
        },
        {
         "name": "Time",
         "rawType": "int64",
         "type": "integer"
        },
        {
         "name": "Summary",
         "rawType": "object",
         "type": "string"
        },
        {
         "name": "Text",
         "rawType": "object",
         "type": "string"
        }
       ],
       "ref": "83be873e-ab14-4a98-ac0c-a471bb252c00",
       "rows": [
        [
         "0",
         "1",
         "B001E4KFG0",
         "A3SGXH7AUHU8GW",
         "delmartian",
         "1",
         "1",
         "5",
         "1303862400",
         "Good Quality Dog Food",
         "I have bought several of the Vitality canned dog food products and have found them all to be of good quality. The product looks more like a stew than a processed meat and it smells better. My Labrador is finicky and she appreciates this product better than  most."
        ],
        [
         "4",
         "5",
         "B006K2ZZ7K",
         "A1UQRSCLF8GW1T",
         "Michael D. Bigham \"M. Wassir\"",
         "0",
         "0",
         "5",
         "1350777600",
         "Great taffy",
         "Great taffy at a great price.  There was a wide assortment of yummy taffy.  Delivery was very quick.  If your a taffy lover, this is a deal."
        ],
        [
         "6",
         "7",
         "B006K2ZZ7K",
         "A1SP2KVKFXXRU1",
         "David C. Sullivan",
         "0",
         "0",
         "5",
         "1340150400",
         "Great!  Just as good as the expensive brands!",
         "This saltwater taffy had great flavors and was very soft and chewy.  Each candy was individually wrapped well.  None of the candies were stuck together, which did happen in the expensive version, Fralinger's.  Would highly recommend this candy!  I served it at a beach-themed party and everyone loved it!"
        ],
        [
         "7",
         "8",
         "B006K2ZZ7K",
         "A3JRGQVEQN31IQ",
         "Pamela G. Williams",
         "0",
         "0",
         "5",
         "1336003200",
         "Wonderful, tasty taffy",
         "This taffy is so good.  It is very soft and chewy.  The flavors are amazing.  I would definitely recommend you buying it.  Very satisfying!!"
        ],
        [
         "8",
         "9",
         "B000E7L2R4",
         "A1MZYO9TZK0BBI",
         "R. James",
         "1",
         "1",
         "5",
         "1322006400",
         "Yay Barley",
         "Right now I'm mostly just sprouting this so my cats can eat the grass. They love it. I rotate it around with Wheatgrass and Rye too"
        ],
        [
         "9",
         "10",
         "B00171APVA",
         "A21BT40VZCCYT4",
         "Carol A. Reed",
         "0",
         "0",
         "5",
         "1351209600",
         "Healthy Dog Food",
         "This is a very healthy dog food. Good for their digestion. Also good for small puppies. My dog eats her required amount at every feeding."
        ],
        [
         "10",
         "11",
         "B0001PB9FE",
         "A3HDKO7OW0QNK4",
         "Canadian Fan",
         "1",
         "1",
         "5",
         "1107820800",
         "The Best Hot Sauce in the World",
         "I don't know if it's the cactus or the tequila or just the unique combination of ingredients, but the flavour of this hot sauce makes it one of a kind!  We picked up a bottle once on a trip we were on and brought it back home with us and were totally blown away!  When we realized that we simply couldn't find it anywhere in our city we were bummed.<br /><br />Now, because of the magic of the internet, we have a case of the sauce and are ecstatic because of it.<br /><br />If you love hot sauce..I mean really love hot sauce, but don't want a sauce that tastelessly burns your throat, grab a bottle of Tequila Picante Gourmet de Inclan.  Just realize that once you taste it, you will never want to use any other sauce.<br /><br />Thank you for the personal, incredible service!"
        ],
        [
         "11",
         "12",
         "B0009XLVG0",
         "A2725IB4YY9JEB",
         "A Poeng \"SparkyGoHome\"",
         "4",
         "4",
         "5",
         "1282867200",
         "My cats LOVE this \"diet\" food better than their regular food",
         "One of my boys needed to lose some weight and the other didn't.  I put this food on the floor for the chubby guy, and the protein-rich, no by-product food up higher where only my skinny boy can jump.  The higher food sits going stale.  They both really go for this food.  And my chubby boy has been losing about an ounce a week."
        ],
        [
         "14",
         "15",
         "B001GVISJM",
         "A2MUGFV2TDQ47K",
         "Lynrie \"Oh HELL no\"",
         "4",
         "5",
         "5",
         "1268352000",
         "Strawberry Twizzlers - Yummy",
         "The Strawberry Twizzlers are my guilty pleasure - yummy. Six pounds will be around for a while with my son and I."
        ],
        [
         "15",
         "16",
         "B001GVISJM",
         "A1CZX3CP8IKQIJ",
         "Brian A. Lee",
         "4",
         "5",
         "5",
         "1262044800",
         "Lots of twizzlers, just what you expect.",
         "My daughter loves twizzlers and this shipment of six pounds really hit the spot. It's exactly what you would expect...six packages of strawberry twizzlers."
        ],
        [
         "17",
         "18",
         "B001GVISJM",
         "AFKW14U97Z6QO",
         "Becca",
         "0",
         "0",
         "5",
         "1345075200",
         "Love it!",
         "I am very satisfied with my Twizzler purchase.  I shared these with others and we have all enjoyed them.  I will definitely be ordering more."
        ],
        [
         "18",
         "19",
         "B001GVISJM",
         "A2A9X58G2GTBLP",
         "Wolfee1",
         "0",
         "0",
         "5",
         "1324598400",
         "GREAT SWEET CANDY!",
         "Twizzlers, Strawberry my childhood favorite candy, made in Lancaster Pennsylvania by Y & S Candies, Inc. one of the oldest confectionery Firms in the United States, now a Subsidiary of the Hershey Company, the Company was established in 1845 as Young and Smylie, they also make Apple Licorice Twists, Green Color and Blue Raspberry Licorice Twists, I like them all<br /><br />I keep it in a dry cool place because is not recommended it to put it in the fridge. According to the Guinness Book of Records, the longest Licorice Twist ever made measured 1.200 Feet (370 M) and weighted 100 Pounds (45 Kg) and was made by Y & S Candies, Inc. This Record-Breaking Twist became a Guinness World Record on July 19, 1998. This Product is Kosher! Thank You"
        ],
        [
         "19",
         "20",
         "B001GVISJM",
         "A3IV7CL2C13K2U",
         "Greg",
         "0",
         "0",
         "5",
         "1318032000",
         "Home delivered twizlers",
         "Candy was delivered very fast and was purchased at a reasonable price.  I was home bound and unable to get to a store so this was perfect for me."
        ],
        [
         "20",
         "21",
         "B001GVISJM",
         "A1WO0KGLPR5PV6",
         "mom2emma",
         "0",
         "0",
         "5",
         "1313452800",
         "Always fresh",
         "My husband is a Twizzlers addict.  We've bought these many times from Amazon because we're government employees living overseas and can't get them in the country we are assigned to.  They've always been fresh and tasty, packed well and arrive in a timely manner."
        ],
        [
         "21",
         "22",
         "B001GVISJM",
         "AZOF9E17RGZH8",
         "Tammy Anderson",
         "0",
         "0",
         "5",
         "1308960000",
         "TWIZZLERS",
         "I bought these for my husband who is currently overseas. He loves these, and apparently his staff likes them also.<br />There are generous amounts of Twizzlers in each 16-ounce bag, and this was well worth the price. <a href=\"http://www.amazon.com/gp/product/B001GVISJM\">Twizzlers, Strawberry, 16-Ounce Bags (Pack of 6)</a>"
        ],
        [
         "22",
         "23",
         "B001GVISJM",
         "ARYVQL4N737A1",
         "Charles Brown",
         "0",
         "0",
         "5",
         "1304899200",
         "Delicious product!",
         "I can remember buying this candy as a kid and the quality hasn't dropped in all these years. Still a superb product you won't be disappointed with."
        ],
        [
         "23",
         "24",
         "B001GVISJM",
         "AJ613OLZZUG7V",
         "Mare's",
         "0",
         "0",
         "5",
         "1304467200",
         "Twizzlers",
         "I love this candy.  After weight watchers I had to cut back but still have a craving for it."
        ],
        [
         "24",
         "25",
         "B001GVISJM",
         "A22P2J09NJ9HKE",
         "S. Cabanaugh \"jilly pepper\"",
         "0",
         "0",
         "5",
         "1295481600",
         "Please sell these in Mexico!!",
         "I have lived out of the US for over 7 yrs now, and I so miss my Twizzlers!!  When I go back to visit or someone visits me, I always stock up.  All I can say is YUM!<br />Sell these in Mexico and you will have a faithful buyer, more often than I'm able to buy them right now."
        ],
        [
         "25",
         "26",
         "B001GVISJM",
         "A3FONPR03H3PJS",
         "Deborah S. Linzer \"Cat Lady\"",
         "0",
         "0",
         "5",
         "1288310400",
         "Twizzlers - Strawberry",
         "Product received is as advertised.<br /><br /><a href=\"http://www.amazon.com/gp/product/B001GVISJM\">Twizzlers, Strawberry, 16-Ounce Bags (Pack of 6)</a>"
        ],
        [
         "28",
         "29",
         "B00144C10S",
         "A2F4LZVGFLD1OB",
         "DaisyH",
         "0",
         "0",
         "5",
         "1338854400",
         "YUMMY!",
         "I got this for my Mum who is not diabetic but needs to watch her sugar intake, and my father who simply chooses to limit unnecessary sugar intake - she's the one with the sweet tooth - they both LOVED these toffees, you would never guess that they're sugar-free and it's so great that you can eat them pretty much guilt free!  i was so impressed that i've ordered some for myself (w dark chocolate) to take to the office so i'll eat them instead of snacking on sugary sweets.<br />These are just EXCELLENT!"
        ],
        [
         "29",
         "30",
         "B0001PB9FY",
         "A3HDKO7OW0QNK4",
         "Canadian Fan",
         "1",
         "1",
         "5",
         "1107820800",
         "The Best Hot Sauce in the World",
         "I don't know if it's the cactus or the tequila or just the unique combination of ingredients, but the flavour of this hot sauce makes it one of a kind!  We picked up a bottle once on a trip we were on and brought it back home with us and were totally blown away!  When we realized that we simply couldn't find it anywhere in our city we were bummed.<br /><br />Now, because of the magic of the internet, we have a case of the sauce and are ecstatic because of it.<br /><br />If you love hot sauce..I mean really love hot sauce, but don't want a sauce that tastelessly burns your throat, grab a bottle of Tequila Picante Gourmet de Inclan.  Just realize that once you taste it, you will never want to use any other sauce.<br /><br />Thank you for the personal, incredible service!"
        ],
        [
         "30",
         "31",
         "B003F6UO7K",
         "AFM0O9480F04W",
         "Sherril",
         "0",
         "0",
         "5",
         "1297641600",
         "Great machine!",
         "I have never been a huge coffee fan. However, my mother purchased this little machine and talked me into trying the Latte Macciato. No Coffee Shop has a better one and I like most of the other products, too (as a usually non-coffee drinker!).<br />The little Dolche Guesto Machine is super easy to use and prepares a really good Coffee/Latte/Cappuccino/etc in less than a minute (if water is heated up). I would recommend the Dolce Gusto to anyone. Too good for the price and I'am getting one myself! :)"
        ],
        [
         "31",
         "32",
         "B003F6UO7K",
         "A31OQO709M20Y7",
         "Molly V. Smith \"staral\"",
         "0",
         "1",
         "5",
         "1288310400",
         "THIS IS MY TASTE...",
         "This offer is a great price and a great taste, thanks Amazon for selling this product.<br /><br />Staral"
        ],
        [
         "34",
         "35",
         "B001EO5QW8",
         "A2EB6OGOWCRU5H",
         "CorbyJames",
         "9",
         "9",
         "5",
         "1175212800",
         "Great Irish oatmeal for those in a hurry!",
         "Instant oatmeal can become soggy the minute the water hits the bowl. McCann's Instant Oatmeal holds its texture, has excellent flavor, and is good for you all at the same time. McCann's regular oat meal is excellent, too, but may take a bit longer to prepare than most have time for in the morning. This is the best instant brand I've ever eaten, and a very close second to the non-instant variety.<br /><br />McCann's Instant Irish Oatmeal, Variety Pack of Regular, Apples & Cinnamon, and Maple & Brown Sugar, 10-Count Boxes (Pack of 6)"
        ],
        [
         "36",
         "37",
         "B001EO5QW8",
         "A1MYS9LFFBIYKM",
         "Abby Chase \"gluten free\"",
         "2",
         "2",
         "5",
         "1190851200",
         "Love Gluten Free Oatmeal!!!",
         "For those of us with celiac disease this product is a lifesaver and what could be better than getting it at almost half the price of the grocery or health food store!  I love McCann's instant oatmeal - all flavors!!!<br /><br />Thanks,<br />Abby"
        ],
        [
         "37",
         "38",
         "B001EO5QW8",
         "A3MGP2E1ZZ6GRB",
         "Zardoz \"focuspuller\"",
         "1",
         "1",
         "5",
         "1238457600",
         "it's oatmeal",
         "What else do you need to know? Oatmeal, instant (make it with a half cup of low-fat milk and add raisins;nuke for 90 seconds). More expensive than Kroger store brand oatmeal and maybe a little tastier or better texture or something. It's still just oatmeal. Mmm, convenient!"
        ],
        [
         "39",
         "40",
         "B001EO5QW8",
         "AO80AC8313NIZ",
         "kYpondman",
         "0",
         "0",
         "5",
         "1317168000",
         "Wife's favorite Breakfast",
         "I ordered this for my wife as it was reccomended by our daughter.  She has this almost every morning and likes all flavors.  She's happy, I'm happy!!!<br /><a href=\"http://www.amazon.com/gp/product/B001EO5QW8\">McCANN'S Instant Irish Oatmeal, Variety Pack of Regular, Apples & Cinnamon, and Maple & Brown Sugar, 10-Count Boxes (Pack of 6)</a>"
        ],
        [
         "40",
         "41",
         "B001EO5QW8",
         "AQCY5KRO7489S",
         "Garrett",
         "0",
         "0",
         "5",
         "1303430400",
         "Why wouldn't you buy oatmeal from Mcanns? Tastes great!",
         "The variety packs taste great!<br /><br />I have them every morning. At $0.30 cents per meal, I don't understand why everyone on earth isn't buying this stuff up.<br /><br />Maple and brown sugar is terrific, followed by apples and cinnamon, followed by regular. You don't get tired of the same ole thing, and they taste great.<br /><br />I just boil water from a small pot, empty the packet or 2 in a bowl, pour in boiling water, and watch it expand to 2x its size!<br /><br />Taste really good and takes minutes to prepare.<br /><br />Not sure why everyone on earth isn't this. Convenient, healthy, very quick, excellent quality, and extremely cheap..."
        ],
        [
         "41",
         "42",
         "B001EO5QW8",
         "A1WK4ALVZDYPUE",
         "Dick Baldwin \"christobe\"",
         "0",
         "0",
         "5",
         "1302134400",
         "Oatmeal For Oatmeal Lovers",
         "McCann's makes oatmeal for every oatmeal connoisseur, whether one likes it from the raw pellet state that cooks for half an hour, to the sloth addled instant, which can be done in the microwave for under three minutes. It's all good, that's for sure, and the beauty of the instant variety is that it is available in different flavors as well as regular.<br />  This variety pack allows different tastes to be explored, as well as giving you a chance to experience the difference between McCann's and other well-known oatmeals. What I personally like about McCann's is that it cooks up thicker and with more body than the top brand here in America. The Apples & Cinnamon, though, tends to be a little liquidy so you may want to experiment with the amount of water you add. In my 1300watt microwave the oatmeal cooks up in about one minute and twenty-seven seconds, so you should also watch that to get a handle on how much time and water to use.<br />  The only bad thing -- if you can consider it a bad thing -- about this offering is that you have to buy in lot so you'll end up with six ten-count boxes. This is good if you have a whole family of oatmeal-eaters, but if you're a single person alone -- well, love oatmeal."
        ],
        [
         "42",
         "43",
         "B001EO5QW8",
         "A16XFOYQSJREL7",
         "Roger Pugliese",
         "0",
         "0",
         "5",
         "1287014400",
         "Food-Great",
         "I have McCann's Oatmeal every morning and by ordering it from Amazon I am able to save almost $3.00 per box.<br />It is a great product. Tastes great and very healthy"
        ],
        [
         "43",
         "44",
         "B001EO5QW8",
         "A17DW6SUOC70DJ",
         "Mother of 9",
         "0",
         "0",
         "5",
         "1255392000",
         "Good Hot Breakfast",
         "McCann's Oatmeal is a good quality choice.  Our favorite is the Apples and Cinnamon, but we find that none of these are overly sugary.  For a good hot breakfast in 2 minutes, this is excellent."
        ],
        [
         "44",
         "45",
         "B001EO5QW8",
         "A2G7B7FKP2O2PU",
         "D. Leschke",
         "0",
         "0",
         "5",
         "1209686400",
         "Great taste and convenience",
         "We really like the McCann's steel cut oats but find we don't cook it up too often.<br />This tastes much better to me than the grocery store brands and is just as convenient.<br />Anything that keeps me eating oatmeal regularly is a good thing."
        ],
        [
         "46",
         "47",
         "B001EO5QW8",
         "AQLL2R1PPR46X",
         "grumpyrainbow",
         "0",
         "0",
         "5",
         "1192752000",
         "good",
         "Good oatmeal.  I like the apple cinnamon the best.  Though I wouldn't follow the directions on the package since it always comes out too soupy for my taste.  That could just be me since I like my oatmeal really thick to add some milk on top of."
        ],
        [
         "51",
         "52",
         "B000G6RPMY",
         "A3S5KJDA6ED2PS",
         "Mike Kaser",
         "4",
         "4",
         "5",
         "1243900800",
         "HOT!  And good!  Came back for more  :)",
         "Got a free package of these with a bottle of bloody mary mix I bought from the seller, and the advertising worked..lol,  I tried them, and shared them with 2 buddies, and we all loved them...  So im here to buy more, and noticed there were no reviews yet,...  well now there is.  They are Hot,  but not \"burn your mouth forever hot\"  its a nice temp...  Perfect for us.."
        ],
        [
         "55",
         "56",
         "B002GWHC0G",
         "A2EFAW1P3DRXWO",
         "TJ Fairfax",
         "0",
         "0",
         "5",
         "1349395200",
         "Our guests love it!",
         "We roast these in a large cast iron pan on the grill (about 1/3 of the bag at a time).  The smell is wonderful and the roasted beans taste delicious too.  More importantly, the coffee is smooth; no bitter aftertaste.  On numerous occasions, we've had to send the roasted beans home with friends because they like it so much."
        ],
        [
         "56",
         "57",
         "B004N5KULM",
         "A202WR509428VF",
         "amateur amazon shopper",
         "2",
         "2",
         "5",
         "1322438400",
         "Awesome Deal!",
         "Deal was awesome!  Arrived before Halloween as indicated and was enough to satisfy trick or treaters.  I love the quality of this product and it was much less expensive than the local store's candy."
        ],
        [
         "57",
         "58",
         "B004N5KULM",
         "ASCNNAJU6SXF8",
         "S. Beck",
         "1",
         "1",
         "5",
         "1336176000",
         "How can you go wrong!",
         "It is chocolate, what can I say.  Great variety of everything our family loves.  With a family of six it goes fast here.  Perfect variety.  Kit Kat, Reeses, take five and more."
        ],
        [
         "58",
         "59",
         "B004N5KULM",
         "A2A7KXM9B4XW90",
         "P. Kelso \"Amazon all the way!\"",
         "0",
         "0",
         "5",
         "1320364800",
         "Awsome - Kids in neighborhood loved us!",
         "Great product, nice combination of chocolates and perfect size!  The bags had plenty, and they were shipped promptly.  The kids in the neighborhood liked our candies!"
        ],
        [
         "59",
         "60",
         "B004N5KULM",
         "A2QOGOXPOVKAJG",
         "mimimc",
         "0",
         "0",
         "5",
         "1320105600",
         "great deal.",
         "Halloween is over but, I sent a bag to my daughters class for her share. The chocolate was fresh and enjoyed by many."
        ],
        [
         "61",
         "62",
         "B004N5KULM",
         "A7ZK2A3VIW7X9",
         "Peggy",
         "0",
         "2",
         "5",
         "1319414400",
         "pretty expensive",
         "This bag of candy online is pretty expensive, it should be cheaper in order to compete with grocery stores, other than that, its a good combination of my favorite candy"
        ],
        [
         "63",
         "64",
         "B005DUM9UQ",
         "A3HR0ZZOFKQ97N",
         "RLC",
         "3",
         "3",
         "5",
         "1333497600",
         "Hammer Nutrition 's Fizz Rocks!",
         "I have used the endurolyte product for several years in both pill and powder form.  Long desert rides on the dirt bike always found my camelbak water heavily laced with the endurolyte powder, not overly tasty, but quite effective, as I never got a cramp on these several hundred mile rides.  Same for desert racing in the buggy, the camelbaks were always laced with the powder.  Now we have the Fizz...what a great product!  Firstly, its Hammer's endurolyte product so it's great, endurance athlete's the world over use their products. Second its convenient, handly tablets that dissovle in a fizz.  Third it tastes great! Imagine getting a nice cool drink when your body is starving for hydration and electrolytes and rather than getting a \"salty\" taste, you get a refreshing lemon-lime or mango!  The camelbaks always get the Fizz now.  I also drop a tablet in my bottled water whenever I exercise and have a nice flavored water chock full of electrolytes. I cannot recommend this product or any hammer product highly enough."
        ],
        [
         "64",
         "65",
         "B005DUM9UQ",
         "A2XIHNXODNZGV4",
         "ChemProf \"chem professor\"",
         "1",
         "1",
         "5",
         "1333584000",
         "great source of electrolytes",
         "This product serves me well as a source of electrolytes during and after a long run or bike ride.<br />I have tried all of the flavors but really do like the grapefruit flavor... no after-taste and I actually like the slight carbonation.<br />I use other Hammer products and really like their whole product line."
        ],
        [
         "65",
         "66",
         "B005DUM9UQ",
         "A3TWF9DQ6MU87E",
         "dhy4b",
         "1",
         "1",
         "5",
         "1331510400",
         "Great for preventing cramps",
         "This stuff really works for preventing cramping during the middle to latter stages of your rides. Pop 1 into each water bottle and you're set. Flavor is fine and goes down easy."
        ],
        [
         "66",
         "67",
         "B005DUM9UQ",
         "AEFIZIJ1FK1BK",
         "Doug",
         "0",
         "0",
         "5",
         "1345161600",
         "Low Carb Alternative to Gatorade",
         "For those of us on a low carb diet these little tablets are just the thing.<br /><br />Two years ago I started cycling again after many years but was having heart arrhythmia after longer rides in high heat.  I was drinking plain water but did a little research and thought electrolytes might be the issue.  Gatorade wasn't an option because it is so loaded with carbohydrates so I looked around for a low-carb alternative.  The \"zero carb\" sports drinks didn't help so what to do?  One day I ran across these at my bike shop so tried a tube of them.....voila!...problem solved!!<br /><br />I've shared them with two friends in particular whose problems with leg cramps were resolved while using these.<br /><br />These guys got it right -- they are superbly formulated and simply work....."
        ],
        [
         "69",
         "70",
         "B000E7VI7S",
         "AWCBF2ZWIN57F",
         "C. Salcido",
         "0",
         "2",
         "5",
         "1185753600",
         "pretzel haven!",
         "this was sooooo deliscious but too bad i ate em too fast and gained 2 pds! my fault"
        ],
        [
         "70",
         "71",
         "B001GVISJC",
         "A27TKQHFW0FB5N",
         "Chet",
         "2",
         "2",
         "5",
         "1254355200",
         "Great Gummi!",
         "These Albanese gummi bears and rings and so on are very good and tasty and high quality. The bears even have little faces. At my local candy store this type of gummi stuff (bears, rings, snakes, balls, worms, whatever) are about $10/lb. These twin packs of 4.5 or 5 pound bags is a screaming deal as far as I'm concerned. I'm probably 50 pounds deep in these friggin' things. Consumed!"
        ],
        [
         "71",
         "72",
         "B001GVISJC",
         "A3BDOAPSF96WGQ",
         "2tall",
         "1",
         "1",
         "5",
         "1289260800",
         "Bigger then other brands",
         "Grape gummy bears are hard to find in my area. In fact pretty much anyone I talk to about grape gummy bears they think I'm lying. So I bought 10lbs... : ) These bears are a little bit bigger then the other brands and have kind of sour kick, but nothing to strong. I love grape flavored candy/soda and these are pretty good. There is another company that makes grape gummy bears that are a little bit better in my opinion, but these are well worth it for the price. I like to use the gummy bears in home made Popsicles with flavored sports drink. The salt in the sports drink makes for softer popsicles, and the gummy bears are awesome frozen. They are delicious!"
        ],
        [
         "72",
         "73",
         "B006SQBRMA",
         "ATYMT48R62ENE",
         "Marie",
         "0",
         "0",
         "5",
         "1327017600",
         "Best ever latice tart",
         "I ordered two of these and two of raspberry latice tarts directly from FantasiCakes website for a dinner party I was hosting. It arrived fresh and intact. Very good size. I froze half for later use. I am a pastry lover and these were the best I've ever tasted. The pastry was soft, the jam was really good and the taste was great. They were gone in no time. My guests were really impressed."
        ],
        [
         "76",
         "77",
         "B004X2KR36",
         "A2W3ABLWMJ84NS",
         "Jessica Snyder",
         "0",
         "0",
         "5",
         "1348444800",
         "Good",
         "These looked like a perfect snack to through in with my trail mix.  Unfortunately, they arrived in a solid mass of melted chocolate.  I left them in my pantry for a few days, and when I opened them at room temperature they were still gooey.  I through them in the fridge and I've been breaking off hunks ever since.  They taste good to me, but the chocolate is all grainy after melting and then solidifying again.  I won't order them online again, but if I see them in a store I would pick them up."
        ],
        [
         "77",
         "78",
         "B004X2KR36",
         "A26M5O53PHZTKN",
         "Debs \"peanut\"",
         "0",
         "0",
         "5",
         "1348185600",
         "Taste great",
         "These taste really good. I have been purchasing a different brand and these are very similar in taste and texture. I agree with the other reviewer regarding ordering in the summer. There is no insulating packaging with ice packs so they will melt in warm weather like all chocolate food items. Order in cold weather and buy enough to last!!!"
        ]
       ],
       "shape": {
        "columns": 10,
        "rows": 363102
       }
      },
      "text/html": [
       "<div>\n",
       "<style scoped>\n",
       "    .dataframe tbody tr th:only-of-type {\n",
       "        vertical-align: middle;\n",
       "    }\n",
       "\n",
       "    .dataframe tbody tr th {\n",
       "        vertical-align: top;\n",
       "    }\n",
       "\n",
       "    .dataframe thead th {\n",
       "        text-align: right;\n",
       "    }\n",
       "</style>\n",
       "<table border=\"1\" class=\"dataframe\">\n",
       "  <thead>\n",
       "    <tr style=\"text-align: right;\">\n",
       "      <th></th>\n",
       "      <th>Id</th>\n",
       "      <th>ProductId</th>\n",
       "      <th>UserId</th>\n",
       "      <th>ProfileName</th>\n",
       "      <th>HelpfulnessNumerator</th>\n",
       "      <th>HelpfulnessDenominator</th>\n",
       "      <th>Score</th>\n",
       "      <th>Time</th>\n",
       "      <th>Summary</th>\n",
       "      <th>Text</th>\n",
       "    </tr>\n",
       "  </thead>\n",
       "  <tbody>\n",
       "    <tr>\n",
       "      <th>0</th>\n",
       "      <td>1</td>\n",
       "      <td>B001E4KFG0</td>\n",
       "      <td>A3SGXH7AUHU8GW</td>\n",
       "      <td>delmartian</td>\n",
       "      <td>1</td>\n",
       "      <td>1</td>\n",
       "      <td>5</td>\n",
       "      <td>1303862400</td>\n",
       "      <td>Good Quality Dog Food</td>\n",
       "      <td>I have bought several of the Vitality canned d...</td>\n",
       "    </tr>\n",
       "    <tr>\n",
       "      <th>4</th>\n",
       "      <td>5</td>\n",
       "      <td>B006K2ZZ7K</td>\n",
       "      <td>A1UQRSCLF8GW1T</td>\n",
       "      <td>Michael D. Bigham \"M. Wassir\"</td>\n",
       "      <td>0</td>\n",
       "      <td>0</td>\n",
       "      <td>5</td>\n",
       "      <td>1350777600</td>\n",
       "      <td>Great taffy</td>\n",
       "      <td>Great taffy at a great price.  There was a wid...</td>\n",
       "    </tr>\n",
       "    <tr>\n",
       "      <th>6</th>\n",
       "      <td>7</td>\n",
       "      <td>B006K2ZZ7K</td>\n",
       "      <td>A1SP2KVKFXXRU1</td>\n",
       "      <td>David C. Sullivan</td>\n",
       "      <td>0</td>\n",
       "      <td>0</td>\n",
       "      <td>5</td>\n",
       "      <td>1340150400</td>\n",
       "      <td>Great!  Just as good as the expensive brands!</td>\n",
       "      <td>This saltwater taffy had great flavors and was...</td>\n",
       "    </tr>\n",
       "    <tr>\n",
       "      <th>7</th>\n",
       "      <td>8</td>\n",
       "      <td>B006K2ZZ7K</td>\n",
       "      <td>A3JRGQVEQN31IQ</td>\n",
       "      <td>Pamela G. Williams</td>\n",
       "      <td>0</td>\n",
       "      <td>0</td>\n",
       "      <td>5</td>\n",
       "      <td>1336003200</td>\n",
       "      <td>Wonderful, tasty taffy</td>\n",
       "      <td>This taffy is so good.  It is very soft and ch...</td>\n",
       "    </tr>\n",
       "    <tr>\n",
       "      <th>8</th>\n",
       "      <td>9</td>\n",
       "      <td>B000E7L2R4</td>\n",
       "      <td>A1MZYO9TZK0BBI</td>\n",
       "      <td>R. James</td>\n",
       "      <td>1</td>\n",
       "      <td>1</td>\n",
       "      <td>5</td>\n",
       "      <td>1322006400</td>\n",
       "      <td>Yay Barley</td>\n",
       "      <td>Right now I'm mostly just sprouting this so my...</td>\n",
       "    </tr>\n",
       "    <tr>\n",
       "      <th>...</th>\n",
       "      <td>...</td>\n",
       "      <td>...</td>\n",
       "      <td>...</td>\n",
       "      <td>...</td>\n",
       "      <td>...</td>\n",
       "      <td>...</td>\n",
       "      <td>...</td>\n",
       "      <td>...</td>\n",
       "      <td>...</td>\n",
       "      <td>...</td>\n",
       "    </tr>\n",
       "    <tr>\n",
       "      <th>568448</th>\n",
       "      <td>568449</td>\n",
       "      <td>B001EO7N10</td>\n",
       "      <td>A1F6BHEYB7R6R7</td>\n",
       "      <td>James Braley</td>\n",
       "      <td>0</td>\n",
       "      <td>0</td>\n",
       "      <td>5</td>\n",
       "      <td>1308096000</td>\n",
       "      <td>Very large ground spice jars.</td>\n",
       "      <td>My only complaint is that there's so much of i...</td>\n",
       "    </tr>\n",
       "    <tr>\n",
       "      <th>568449</th>\n",
       "      <td>568450</td>\n",
       "      <td>B001EO7N10</td>\n",
       "      <td>A28KG5XORO54AY</td>\n",
       "      <td>Lettie D. Carter</td>\n",
       "      <td>0</td>\n",
       "      <td>0</td>\n",
       "      <td>5</td>\n",
       "      <td>1299628800</td>\n",
       "      <td>Will not do without</td>\n",
       "      <td>Great for sesame chicken..this is a good if no...</td>\n",
       "    </tr>\n",
       "    <tr>\n",
       "      <th>568451</th>\n",
       "      <td>568452</td>\n",
       "      <td>B004I613EE</td>\n",
       "      <td>A121AA1GQV751Z</td>\n",
       "      <td>pksd \"pk_007\"</td>\n",
       "      <td>2</td>\n",
       "      <td>2</td>\n",
       "      <td>5</td>\n",
       "      <td>1329782400</td>\n",
       "      <td>Perfect for our maltipoo</td>\n",
       "      <td>These stars are small, so you can give 10-15 o...</td>\n",
       "    </tr>\n",
       "    <tr>\n",
       "      <th>568452</th>\n",
       "      <td>568453</td>\n",
       "      <td>B004I613EE</td>\n",
       "      <td>A3IBEVCTXKNOH</td>\n",
       "      <td>Kathy A. Welch \"katwel\"</td>\n",
       "      <td>1</td>\n",
       "      <td>1</td>\n",
       "      <td>5</td>\n",
       "      <td>1331596800</td>\n",
       "      <td>Favorite Training and reward treat</td>\n",
       "      <td>These are the BEST treats for training and rew...</td>\n",
       "    </tr>\n",
       "    <tr>\n",
       "      <th>568453</th>\n",
       "      <td>568454</td>\n",
       "      <td>B001LR2CU2</td>\n",
       "      <td>A3LGQPJCZVL9UC</td>\n",
       "      <td>srfell17</td>\n",
       "      <td>0</td>\n",
       "      <td>0</td>\n",
       "      <td>5</td>\n",
       "      <td>1338422400</td>\n",
       "      <td>Great Honey</td>\n",
       "      <td>I am very satisfied ,product is as advertised,...</td>\n",
       "    </tr>\n",
       "  </tbody>\n",
       "</table>\n",
       "<p>363102 rows × 10 columns</p>\n",
       "</div>"
      ],
      "text/plain": [
       "            Id   ProductId          UserId                    ProfileName  \\\n",
       "0            1  B001E4KFG0  A3SGXH7AUHU8GW                     delmartian   \n",
       "4            5  B006K2ZZ7K  A1UQRSCLF8GW1T  Michael D. Bigham \"M. Wassir\"   \n",
       "6            7  B006K2ZZ7K  A1SP2KVKFXXRU1              David C. Sullivan   \n",
       "7            8  B006K2ZZ7K  A3JRGQVEQN31IQ             Pamela G. Williams   \n",
       "8            9  B000E7L2R4  A1MZYO9TZK0BBI                       R. James   \n",
       "...        ...         ...             ...                            ...   \n",
       "568448  568449  B001EO7N10  A1F6BHEYB7R6R7                   James Braley   \n",
       "568449  568450  B001EO7N10  A28KG5XORO54AY               Lettie D. Carter   \n",
       "568451  568452  B004I613EE  A121AA1GQV751Z                  pksd \"pk_007\"   \n",
       "568452  568453  B004I613EE   A3IBEVCTXKNOH        Kathy A. Welch \"katwel\"   \n",
       "568453  568454  B001LR2CU2  A3LGQPJCZVL9UC                       srfell17   \n",
       "\n",
       "        HelpfulnessNumerator  HelpfulnessDenominator  Score        Time  \\\n",
       "0                          1                       1      5  1303862400   \n",
       "4                          0                       0      5  1350777600   \n",
       "6                          0                       0      5  1340150400   \n",
       "7                          0                       0      5  1336003200   \n",
       "8                          1                       1      5  1322006400   \n",
       "...                      ...                     ...    ...         ...   \n",
       "568448                     0                       0      5  1308096000   \n",
       "568449                     0                       0      5  1299628800   \n",
       "568451                     2                       2      5  1329782400   \n",
       "568452                     1                       1      5  1331596800   \n",
       "568453                     0                       0      5  1338422400   \n",
       "\n",
       "                                              Summary  \\\n",
       "0                               Good Quality Dog Food   \n",
       "4                                         Great taffy   \n",
       "6       Great!  Just as good as the expensive brands!   \n",
       "7                              Wonderful, tasty taffy   \n",
       "8                                          Yay Barley   \n",
       "...                                               ...   \n",
       "568448                  Very large ground spice jars.   \n",
       "568449                            Will not do without   \n",
       "568451                       Perfect for our maltipoo   \n",
       "568452             Favorite Training and reward treat   \n",
       "568453                                    Great Honey   \n",
       "\n",
       "                                                     Text  \n",
       "0       I have bought several of the Vitality canned d...  \n",
       "4       Great taffy at a great price.  There was a wid...  \n",
       "6       This saltwater taffy had great flavors and was...  \n",
       "7       This taffy is so good.  It is very soft and ch...  \n",
       "8       Right now I'm mostly just sprouting this so my...  \n",
       "...                                                   ...  \n",
       "568448  My only complaint is that there's so much of i...  \n",
       "568449  Great for sesame chicken..this is a good if no...  \n",
       "568451  These stars are small, so you can give 10-15 o...  \n",
       "568452  These are the BEST treats for training and rew...  \n",
       "568453  I am very satisfied ,product is as advertised,...  \n",
       "\n",
       "[363102 rows x 10 columns]"
      ]
     },
     "execution_count": 13,
     "metadata": {},
     "output_type": "execute_result"
    }
   ],
   "source": [
    "df[df['Score'] > 4]"
   ]
  },
  {
   "cell_type": "code",
   "execution_count": 14,
   "id": "82df314c",
   "metadata": {},
   "outputs": [
    {
     "data": {
      "application/vnd.microsoft.datawrangler.viewer.v0+json": {
       "columns": [
        {
         "name": "index",
         "rawType": "int64",
         "type": "integer"
        },
        {
         "name": "ProfileName",
         "rawType": "object",
         "type": "string"
        },
        {
         "name": "Score",
         "rawType": "int64",
         "type": "integer"
        }
       ],
       "ref": "266b819e-e622-4c8b-8b55-29b8821e0d2f",
       "rows": [
        [
         "0",
         "delmartian",
         "5"
        ],
        [
         "4",
         "Michael D. Bigham \"M. Wassir\"",
         "5"
        ],
        [
         "6",
         "David C. Sullivan",
         "5"
        ],
        [
         "7",
         "Pamela G. Williams",
         "5"
        ],
        [
         "8",
         "R. James",
         "5"
        ],
        [
         "9",
         "Carol A. Reed",
         "5"
        ],
        [
         "10",
         "Canadian Fan",
         "5"
        ],
        [
         "11",
         "A Poeng \"SparkyGoHome\"",
         "5"
        ],
        [
         "14",
         "Lynrie \"Oh HELL no\"",
         "5"
        ],
        [
         "15",
         "Brian A. Lee",
         "5"
        ],
        [
         "17",
         "Becca",
         "5"
        ],
        [
         "18",
         "Wolfee1",
         "5"
        ],
        [
         "19",
         "Greg",
         "5"
        ],
        [
         "20",
         "mom2emma",
         "5"
        ],
        [
         "21",
         "Tammy Anderson",
         "5"
        ],
        [
         "22",
         "Charles Brown",
         "5"
        ],
        [
         "23",
         "Mare's",
         "5"
        ],
        [
         "24",
         "S. Cabanaugh \"jilly pepper\"",
         "5"
        ],
        [
         "25",
         "Deborah S. Linzer \"Cat Lady\"",
         "5"
        ],
        [
         "28",
         "DaisyH",
         "5"
        ],
        [
         "29",
         "Canadian Fan",
         "5"
        ],
        [
         "30",
         "Sherril",
         "5"
        ],
        [
         "31",
         "Molly V. Smith \"staral\"",
         "5"
        ],
        [
         "34",
         "CorbyJames",
         "5"
        ],
        [
         "36",
         "Abby Chase \"gluten free\"",
         "5"
        ],
        [
         "37",
         "Zardoz \"focuspuller\"",
         "5"
        ],
        [
         "39",
         "kYpondman",
         "5"
        ],
        [
         "40",
         "Garrett",
         "5"
        ],
        [
         "41",
         "Dick Baldwin \"christobe\"",
         "5"
        ],
        [
         "42",
         "Roger Pugliese",
         "5"
        ],
        [
         "43",
         "Mother of 9",
         "5"
        ],
        [
         "44",
         "D. Leschke",
         "5"
        ],
        [
         "46",
         "grumpyrainbow",
         "5"
        ],
        [
         "51",
         "Mike Kaser",
         "5"
        ],
        [
         "55",
         "TJ Fairfax",
         "5"
        ],
        [
         "56",
         "amateur amazon shopper",
         "5"
        ],
        [
         "57",
         "S. Beck",
         "5"
        ],
        [
         "58",
         "P. Kelso \"Amazon all the way!\"",
         "5"
        ],
        [
         "59",
         "mimimc",
         "5"
        ],
        [
         "61",
         "Peggy",
         "5"
        ],
        [
         "63",
         "RLC",
         "5"
        ],
        [
         "64",
         "ChemProf \"chem professor\"",
         "5"
        ],
        [
         "65",
         "dhy4b",
         "5"
        ],
        [
         "66",
         "Doug",
         "5"
        ],
        [
         "69",
         "C. Salcido",
         "5"
        ],
        [
         "70",
         "Chet",
         "5"
        ],
        [
         "71",
         "2tall",
         "5"
        ],
        [
         "72",
         "Marie",
         "5"
        ],
        [
         "76",
         "Jessica Snyder",
         "5"
        ],
        [
         "77",
         "Debs \"peanut\"",
         "5"
        ]
       ],
       "shape": {
        "columns": 2,
        "rows": 363102
       }
      },
      "text/html": [
       "<div>\n",
       "<style scoped>\n",
       "    .dataframe tbody tr th:only-of-type {\n",
       "        vertical-align: middle;\n",
       "    }\n",
       "\n",
       "    .dataframe tbody tr th {\n",
       "        vertical-align: top;\n",
       "    }\n",
       "\n",
       "    .dataframe thead th {\n",
       "        text-align: right;\n",
       "    }\n",
       "</style>\n",
       "<table border=\"1\" class=\"dataframe\">\n",
       "  <thead>\n",
       "    <tr style=\"text-align: right;\">\n",
       "      <th></th>\n",
       "      <th>ProfileName</th>\n",
       "      <th>Score</th>\n",
       "    </tr>\n",
       "  </thead>\n",
       "  <tbody>\n",
       "    <tr>\n",
       "      <th>0</th>\n",
       "      <td>delmartian</td>\n",
       "      <td>5</td>\n",
       "    </tr>\n",
       "    <tr>\n",
       "      <th>4</th>\n",
       "      <td>Michael D. Bigham \"M. Wassir\"</td>\n",
       "      <td>5</td>\n",
       "    </tr>\n",
       "    <tr>\n",
       "      <th>6</th>\n",
       "      <td>David C. Sullivan</td>\n",
       "      <td>5</td>\n",
       "    </tr>\n",
       "    <tr>\n",
       "      <th>7</th>\n",
       "      <td>Pamela G. Williams</td>\n",
       "      <td>5</td>\n",
       "    </tr>\n",
       "    <tr>\n",
       "      <th>8</th>\n",
       "      <td>R. James</td>\n",
       "      <td>5</td>\n",
       "    </tr>\n",
       "    <tr>\n",
       "      <th>...</th>\n",
       "      <td>...</td>\n",
       "      <td>...</td>\n",
       "    </tr>\n",
       "    <tr>\n",
       "      <th>568448</th>\n",
       "      <td>James Braley</td>\n",
       "      <td>5</td>\n",
       "    </tr>\n",
       "    <tr>\n",
       "      <th>568449</th>\n",
       "      <td>Lettie D. Carter</td>\n",
       "      <td>5</td>\n",
       "    </tr>\n",
       "    <tr>\n",
       "      <th>568451</th>\n",
       "      <td>pksd \"pk_007\"</td>\n",
       "      <td>5</td>\n",
       "    </tr>\n",
       "    <tr>\n",
       "      <th>568452</th>\n",
       "      <td>Kathy A. Welch \"katwel\"</td>\n",
       "      <td>5</td>\n",
       "    </tr>\n",
       "    <tr>\n",
       "      <th>568453</th>\n",
       "      <td>srfell17</td>\n",
       "      <td>5</td>\n",
       "    </tr>\n",
       "  </tbody>\n",
       "</table>\n",
       "<p>363102 rows × 2 columns</p>\n",
       "</div>"
      ],
      "text/plain": [
       "                          ProfileName  Score\n",
       "0                          delmartian      5\n",
       "4       Michael D. Bigham \"M. Wassir\"      5\n",
       "6                   David C. Sullivan      5\n",
       "7                  Pamela G. Williams      5\n",
       "8                            R. James      5\n",
       "...                               ...    ...\n",
       "568448                   James Braley      5\n",
       "568449               Lettie D. Carter      5\n",
       "568451                  pksd \"pk_007\"      5\n",
       "568452        Kathy A. Welch \"katwel\"      5\n",
       "568453                       srfell17      5\n",
       "\n",
       "[363102 rows x 2 columns]"
      ]
     },
     "execution_count": 14,
     "metadata": {},
     "output_type": "execute_result"
    }
   ],
   "source": [
    "df[df['Score'] > 4][['ProfileName', 'Score']]"
   ]
  },
  {
   "cell_type": "code",
   "execution_count": 15,
   "id": "9774d7ce",
   "metadata": {},
   "outputs": [
    {
     "data": {
      "application/vnd.microsoft.datawrangler.viewer.v0+json": {
       "columns": [
        {
         "name": "index",
         "rawType": "int64",
         "type": "integer"
        },
        {
         "name": "ProfileName",
         "rawType": "object",
         "type": "string"
        },
        {
         "name": "Score",
         "rawType": "int64",
         "type": "integer"
        },
        {
         "name": "HelpfulnessNumerator",
         "rawType": "int64",
         "type": "integer"
        }
       ],
       "ref": "747a2e5c-1bbb-4016-bb41-1dc0846d611f",
       "rows": [
        [
         "198373",
         "M. Peters",
         "5",
         "11"
        ],
        [
         "333293",
         "John Franklin",
         "5",
         "6"
        ],
        [
         "19403",
         "K. A. Freel",
         "5",
         "4"
        ],
        [
         "262894",
         "Dee B. \"Dee B\"",
         "5",
         "4"
        ],
        [
         "357822",
         "Victoria Satterfield",
         "5",
         "11"
        ]
       ],
       "shape": {
        "columns": 3,
        "rows": 5
       }
      },
      "text/html": [
       "<div>\n",
       "<style scoped>\n",
       "    .dataframe tbody tr th:only-of-type {\n",
       "        vertical-align: middle;\n",
       "    }\n",
       "\n",
       "    .dataframe tbody tr th {\n",
       "        vertical-align: top;\n",
       "    }\n",
       "\n",
       "    .dataframe thead th {\n",
       "        text-align: right;\n",
       "    }\n",
       "</style>\n",
       "<table border=\"1\" class=\"dataframe\">\n",
       "  <thead>\n",
       "    <tr style=\"text-align: right;\">\n",
       "      <th></th>\n",
       "      <th>ProfileName</th>\n",
       "      <th>Score</th>\n",
       "      <th>HelpfulnessNumerator</th>\n",
       "    </tr>\n",
       "  </thead>\n",
       "  <tbody>\n",
       "    <tr>\n",
       "      <th>198373</th>\n",
       "      <td>M. Peters</td>\n",
       "      <td>5</td>\n",
       "      <td>11</td>\n",
       "    </tr>\n",
       "    <tr>\n",
       "      <th>333293</th>\n",
       "      <td>John Franklin</td>\n",
       "      <td>5</td>\n",
       "      <td>6</td>\n",
       "    </tr>\n",
       "    <tr>\n",
       "      <th>19403</th>\n",
       "      <td>K. A. Freel</td>\n",
       "      <td>5</td>\n",
       "      <td>4</td>\n",
       "    </tr>\n",
       "    <tr>\n",
       "      <th>262894</th>\n",
       "      <td>Dee B. \"Dee B\"</td>\n",
       "      <td>5</td>\n",
       "      <td>4</td>\n",
       "    </tr>\n",
       "    <tr>\n",
       "      <th>357822</th>\n",
       "      <td>Victoria Satterfield</td>\n",
       "      <td>5</td>\n",
       "      <td>11</td>\n",
       "    </tr>\n",
       "  </tbody>\n",
       "</table>\n",
       "</div>"
      ],
      "text/plain": [
       "                 ProfileName  Score  HelpfulnessNumerator\n",
       "198373             M. Peters      5                    11\n",
       "333293         John Franklin      5                     6\n",
       "19403            K. A. Freel      5                     4\n",
       "262894        Dee B. \"Dee B\"      5                     4\n",
       "357822  Victoria Satterfield      5                    11"
      ]
     },
     "execution_count": 15,
     "metadata": {},
     "output_type": "execute_result"
    }
   ],
   "source": [
    "df[(df['Score'] > 4) & (df['HelpfulnessNumerator'] > 3)][['ProfileName', 'Score', 'HelpfulnessNumerator']].sample(5)"
   ]
  },
  {
   "cell_type": "code",
   "execution_count": 16,
   "id": "cadbc51f",
   "metadata": {},
   "outputs": [
    {
     "data": {
      "application/vnd.microsoft.datawrangler.viewer.v0+json": {
       "columns": [
        {
         "name": "index",
         "rawType": "int64",
         "type": "integer"
        },
        {
         "name": "Id",
         "rawType": "int64",
         "type": "integer"
        },
        {
         "name": "ProductId",
         "rawType": "object",
         "type": "string"
        },
        {
         "name": "UserId",
         "rawType": "object",
         "type": "string"
        },
        {
         "name": "ProfileName",
         "rawType": "object",
         "type": "string"
        },
        {
         "name": "HelpfulnessNumerator",
         "rawType": "int64",
         "type": "integer"
        },
        {
         "name": "HelpfulnessDenominator",
         "rawType": "int64",
         "type": "integer"
        },
        {
         "name": "Score",
         "rawType": "int64",
         "type": "integer"
        },
        {
         "name": "Time",
         "rawType": "int64",
         "type": "integer"
        },
        {
         "name": "Summary",
         "rawType": "object",
         "type": "string"
        },
        {
         "name": "Text",
         "rawType": "object",
         "type": "string"
        }
       ],
       "ref": "848a29ac-8c6c-4e0b-bffa-141ea9424127",
       "rows": [
        [
         "0",
         "1",
         "B001E4KFG0",
         "A3SGXH7AUHU8GW",
         "delmartian",
         "1",
         "1",
         "5",
         "1303862400",
         "Good Quality Dog Food",
         "I have bought several of the Vitality canned dog food products and have found them all to be of good quality. The product looks more like a stew than a processed meat and it smells better. My Labrador is finicky and she appreciates this product better than  most."
        ],
        [
         "338699",
         "338700",
         "B004Z4HUPA",
         "A3KHFQBQ16Z03D",
         "Bridgett Wilson",
         "0",
         "1",
         "5",
         "1345766400",
         "Perfection",
         "The forgot to mention 0 after taste... I notice the 'sport' line doesn't have it.<br /><br />Beware the lemonade passionfruit (after taste galore)!"
        ],
        [
         "338716",
         "338717",
         "B003UAQHOU",
         "AIZWF6JVIZTC5",
         "Tonya Artzer",
         "1",
         "1",
         "5",
         "1337990400",
         "Hill Science Diet Dry Puppy Food",
         "Have fed our Siberian Husky this food since she was old enough to eat solid food and she still eats it just fine and is in beautiful condition."
        ],
        [
         "338714",
         "338715",
         "B001VNFOZ6",
         "A144UI9S7Z9MYA",
         "Rachel Marie Zhao",
         "3",
         "3",
         "5",
         "1307923200",
         "Excellent Chinese Five Spice",
         "''' For those who cook Chinese Chicken, Duck, Beef, etc., this is the perfect spice!  My husband who is Chinese, said I cooked wonderful chinese chicken when I used this five spice!"
        ],
        [
         "338713",
         "338714",
         "B001VNFOZ6",
         "A276OI0NHBYORX",
         "Rebecca N",
         "6",
         "7",
         "5",
         "1300492800",
         "Great product, price, and well packaged",
         "This is traditional 5 spice powder.  The right blend - I'm very pleased.<br /><br />The bottles are also nice - nicer than in the picture -  which may seem like a silly thing to care about, but I prefer a nice bottle on my spice rack to a plastic bottle with cheap labeling.  I know that sounds so so silly - but I enjoy cooking more when I feel like I'm using quality ingredients, and I do sometimes (perhaps mistakenly) associate good packaging with quality.<br /><br />The price here is less expensive than what I could find in a store.  The 3 pack was great because I gave 1 away as a gift in a basket along with a few other asian themed cooking items.<br /><br />Packaging was great - bubble wrapped for shipping, but not insanely difficult to unwrap.  I'd buy again, but I imagine the 2 bottles I kept for myself will last me a while."
        ],
        [
         "338711",
         "338712",
         "B001VNFOZ6",
         "A15P7Q1WK4RED0",
         "Terri Fountain",
         "6",
         "6",
         "5",
         "1293667200",
         "Love 5 Spice",
         "This spice is so hard to find where I live.  Some stores know about it and others just say \"I know we had it\".  So when I finally found it I was thrilled for my husband as he loves this spice and cooks with it constantly!"
        ],
        [
         "338710",
         "338711",
         "B001VNFOZ6",
         "A2ZE8BSZ5MMEOP",
         "Jasmine \"Uniquely Yours\"",
         "14",
         "14",
         "5",
         "1261699200",
         "Delicious, fresh and convenient Five Spice powder",
         "Frontier Five Spice Powder is a value, also, convenient with a satisfying taste. Quite complimentary too many dishes, although it has a distinct taste, it is not over powering. A few ways to use five spice powder is, simply, sprinkle it on jasmine rice or Thai rice noodles, put in a favorite sweet potatoe dish and/or add to stir frys. It adds tasty, balancing flavors to any dish. I rely on Frontier for quality fresh spices and they did well with their Chinese Five Spice Powder."
        ],
        [
         "338709",
         "338710",
         "B002R83LW2",
         "AJ7L4FL7XLT50",
         "J. Torres \"judeandjenny\"",
         "0",
         "0",
         "5",
         "1294185600",
         "Best home brew coffee!",
         "As did another reviewer... I tried this coffee at a restaurant while out of town for a wedding. I couldn't get it out of my head and eventually called and asked what kind of coffee they served there. It was Boyds. Ordered this as a christmas gift for myself and am very glad I did. I no longer crave expensive coffee house coffee's and really look forward to brewing this at home every morning. It's going to save me big $$. So glad it's a prime item. I'm going to be back for more that's for sure!"
        ],
        [
         "338708",
         "338709",
         "B002R83LW2",
         "A3TTI1LVI0A7MS",
         "Romeo",
         "0",
         "0",
         "5",
         "1305331200",
         "Great Coffee",
         "I found two of the finest resturants in my home town of Reno using this coffee.  I asked the waiters for the brand of the coffee because it tasted so smooth and really woke me up.  Since buying this product once a month my wife and I have two cups in the morning and it starts our day off with a nice wake up feeling.  We now pay $19+ for monthly coffee."
        ],
        [
         "338707",
         "338708",
         "B002R83LW2",
         "A25B0YK51CTBVN",
         "boone1729",
         "0",
         "0",
         "5",
         "1313366400",
         "Best Coffee Ever!!!",
         "I am not a coffee person, but I am in love with this coffee!  My favorite way to enjoy it, is sprinkled on some vanilla ice cream!  Yummy!"
        ]
       ],
       "shape": {
        "columns": 10,
        "rows": 10
       }
      },
      "text/html": [
       "<div>\n",
       "<style scoped>\n",
       "    .dataframe tbody tr th:only-of-type {\n",
       "        vertical-align: middle;\n",
       "    }\n",
       "\n",
       "    .dataframe tbody tr th {\n",
       "        vertical-align: top;\n",
       "    }\n",
       "\n",
       "    .dataframe thead th {\n",
       "        text-align: right;\n",
       "    }\n",
       "</style>\n",
       "<table border=\"1\" class=\"dataframe\">\n",
       "  <thead>\n",
       "    <tr style=\"text-align: right;\">\n",
       "      <th></th>\n",
       "      <th>Id</th>\n",
       "      <th>ProductId</th>\n",
       "      <th>UserId</th>\n",
       "      <th>ProfileName</th>\n",
       "      <th>HelpfulnessNumerator</th>\n",
       "      <th>HelpfulnessDenominator</th>\n",
       "      <th>Score</th>\n",
       "      <th>Time</th>\n",
       "      <th>Summary</th>\n",
       "      <th>Text</th>\n",
       "    </tr>\n",
       "  </thead>\n",
       "  <tbody>\n",
       "    <tr>\n",
       "      <th>0</th>\n",
       "      <td>1</td>\n",
       "      <td>B001E4KFG0</td>\n",
       "      <td>A3SGXH7AUHU8GW</td>\n",
       "      <td>delmartian</td>\n",
       "      <td>1</td>\n",
       "      <td>1</td>\n",
       "      <td>5</td>\n",
       "      <td>1303862400</td>\n",
       "      <td>Good Quality Dog Food</td>\n",
       "      <td>I have bought several of the Vitality canned d...</td>\n",
       "    </tr>\n",
       "    <tr>\n",
       "      <th>338699</th>\n",
       "      <td>338700</td>\n",
       "      <td>B004Z4HUPA</td>\n",
       "      <td>A3KHFQBQ16Z03D</td>\n",
       "      <td>Bridgett Wilson</td>\n",
       "      <td>0</td>\n",
       "      <td>1</td>\n",
       "      <td>5</td>\n",
       "      <td>1345766400</td>\n",
       "      <td>Perfection</td>\n",
       "      <td>The forgot to mention 0 after taste... I notic...</td>\n",
       "    </tr>\n",
       "    <tr>\n",
       "      <th>338716</th>\n",
       "      <td>338717</td>\n",
       "      <td>B003UAQHOU</td>\n",
       "      <td>AIZWF6JVIZTC5</td>\n",
       "      <td>Tonya Artzer</td>\n",
       "      <td>1</td>\n",
       "      <td>1</td>\n",
       "      <td>5</td>\n",
       "      <td>1337990400</td>\n",
       "      <td>Hill Science Diet Dry Puppy Food</td>\n",
       "      <td>Have fed our Siberian Husky this food since sh...</td>\n",
       "    </tr>\n",
       "    <tr>\n",
       "      <th>338714</th>\n",
       "      <td>338715</td>\n",
       "      <td>B001VNFOZ6</td>\n",
       "      <td>A144UI9S7Z9MYA</td>\n",
       "      <td>Rachel Marie Zhao</td>\n",
       "      <td>3</td>\n",
       "      <td>3</td>\n",
       "      <td>5</td>\n",
       "      <td>1307923200</td>\n",
       "      <td>Excellent Chinese Five Spice</td>\n",
       "      <td>''' For those who cook Chinese Chicken, Duck, ...</td>\n",
       "    </tr>\n",
       "    <tr>\n",
       "      <th>338713</th>\n",
       "      <td>338714</td>\n",
       "      <td>B001VNFOZ6</td>\n",
       "      <td>A276OI0NHBYORX</td>\n",
       "      <td>Rebecca N</td>\n",
       "      <td>6</td>\n",
       "      <td>7</td>\n",
       "      <td>5</td>\n",
       "      <td>1300492800</td>\n",
       "      <td>Great product, price, and well packaged</td>\n",
       "      <td>This is traditional 5 spice powder.  The right...</td>\n",
       "    </tr>\n",
       "    <tr>\n",
       "      <th>338711</th>\n",
       "      <td>338712</td>\n",
       "      <td>B001VNFOZ6</td>\n",
       "      <td>A15P7Q1WK4RED0</td>\n",
       "      <td>Terri Fountain</td>\n",
       "      <td>6</td>\n",
       "      <td>6</td>\n",
       "      <td>5</td>\n",
       "      <td>1293667200</td>\n",
       "      <td>Love 5 Spice</td>\n",
       "      <td>This spice is so hard to find where I live.  S...</td>\n",
       "    </tr>\n",
       "    <tr>\n",
       "      <th>338710</th>\n",
       "      <td>338711</td>\n",
       "      <td>B001VNFOZ6</td>\n",
       "      <td>A2ZE8BSZ5MMEOP</td>\n",
       "      <td>Jasmine \"Uniquely Yours\"</td>\n",
       "      <td>14</td>\n",
       "      <td>14</td>\n",
       "      <td>5</td>\n",
       "      <td>1261699200</td>\n",
       "      <td>Delicious, fresh and convenient Five Spice powder</td>\n",
       "      <td>Frontier Five Spice Powder is a value, also, c...</td>\n",
       "    </tr>\n",
       "    <tr>\n",
       "      <th>338709</th>\n",
       "      <td>338710</td>\n",
       "      <td>B002R83LW2</td>\n",
       "      <td>AJ7L4FL7XLT50</td>\n",
       "      <td>J. Torres \"judeandjenny\"</td>\n",
       "      <td>0</td>\n",
       "      <td>0</td>\n",
       "      <td>5</td>\n",
       "      <td>1294185600</td>\n",
       "      <td>Best home brew coffee!</td>\n",
       "      <td>As did another reviewer... I tried this coffee...</td>\n",
       "    </tr>\n",
       "    <tr>\n",
       "      <th>338708</th>\n",
       "      <td>338709</td>\n",
       "      <td>B002R83LW2</td>\n",
       "      <td>A3TTI1LVI0A7MS</td>\n",
       "      <td>Romeo</td>\n",
       "      <td>0</td>\n",
       "      <td>0</td>\n",
       "      <td>5</td>\n",
       "      <td>1305331200</td>\n",
       "      <td>Great Coffee</td>\n",
       "      <td>I found two of the finest resturants in my hom...</td>\n",
       "    </tr>\n",
       "    <tr>\n",
       "      <th>338707</th>\n",
       "      <td>338708</td>\n",
       "      <td>B002R83LW2</td>\n",
       "      <td>A25B0YK51CTBVN</td>\n",
       "      <td>boone1729</td>\n",
       "      <td>0</td>\n",
       "      <td>0</td>\n",
       "      <td>5</td>\n",
       "      <td>1313366400</td>\n",
       "      <td>Best Coffee Ever!!!</td>\n",
       "      <td>I am not a coffee person, but I am in love wit...</td>\n",
       "    </tr>\n",
       "  </tbody>\n",
       "</table>\n",
       "</div>"
      ],
      "text/plain": [
       "            Id   ProductId          UserId               ProfileName  \\\n",
       "0            1  B001E4KFG0  A3SGXH7AUHU8GW                delmartian   \n",
       "338699  338700  B004Z4HUPA  A3KHFQBQ16Z03D           Bridgett Wilson   \n",
       "338716  338717  B003UAQHOU   AIZWF6JVIZTC5              Tonya Artzer   \n",
       "338714  338715  B001VNFOZ6  A144UI9S7Z9MYA         Rachel Marie Zhao   \n",
       "338713  338714  B001VNFOZ6  A276OI0NHBYORX                 Rebecca N   \n",
       "338711  338712  B001VNFOZ6  A15P7Q1WK4RED0            Terri Fountain   \n",
       "338710  338711  B001VNFOZ6  A2ZE8BSZ5MMEOP  Jasmine \"Uniquely Yours\"   \n",
       "338709  338710  B002R83LW2   AJ7L4FL7XLT50  J. Torres \"judeandjenny\"   \n",
       "338708  338709  B002R83LW2  A3TTI1LVI0A7MS                     Romeo   \n",
       "338707  338708  B002R83LW2  A25B0YK51CTBVN                 boone1729   \n",
       "\n",
       "        HelpfulnessNumerator  HelpfulnessDenominator  Score        Time  \\\n",
       "0                          1                       1      5  1303862400   \n",
       "338699                     0                       1      5  1345766400   \n",
       "338716                     1                       1      5  1337990400   \n",
       "338714                     3                       3      5  1307923200   \n",
       "338713                     6                       7      5  1300492800   \n",
       "338711                     6                       6      5  1293667200   \n",
       "338710                    14                      14      5  1261699200   \n",
       "338709                     0                       0      5  1294185600   \n",
       "338708                     0                       0      5  1305331200   \n",
       "338707                     0                       0      5  1313366400   \n",
       "\n",
       "                                                  Summary  \\\n",
       "0                                   Good Quality Dog Food   \n",
       "338699                                         Perfection   \n",
       "338716                   Hill Science Diet Dry Puppy Food   \n",
       "338714                       Excellent Chinese Five Spice   \n",
       "338713            Great product, price, and well packaged   \n",
       "338711                                       Love 5 Spice   \n",
       "338710  Delicious, fresh and convenient Five Spice powder   \n",
       "338709                             Best home brew coffee!   \n",
       "338708                                       Great Coffee   \n",
       "338707                                Best Coffee Ever!!!   \n",
       "\n",
       "                                                     Text  \n",
       "0       I have bought several of the Vitality canned d...  \n",
       "338699  The forgot to mention 0 after taste... I notic...  \n",
       "338716  Have fed our Siberian Husky this food since sh...  \n",
       "338714  ''' For those who cook Chinese Chicken, Duck, ...  \n",
       "338713  This is traditional 5 spice powder.  The right...  \n",
       "338711  This spice is so hard to find where I live.  S...  \n",
       "338710  Frontier Five Spice Powder is a value, also, c...  \n",
       "338709  As did another reviewer... I tried this coffee...  \n",
       "338708  I found two of the finest resturants in my hom...  \n",
       "338707  I am not a coffee person, but I am in love wit...  "
      ]
     },
     "execution_count": 16,
     "metadata": {},
     "output_type": "execute_result"
    }
   ],
   "source": [
    "df.sort_values(by='Score', ascending=False).head(10)"
   ]
  },
  {
   "cell_type": "code",
   "execution_count": 17,
   "id": "748bf112",
   "metadata": {},
   "outputs": [
    {
     "data": {
      "text/plain": [
       "Index(['Id', 'ProductId', 'UserId', 'ProfileName', 'HelpfulnessNumerator',\n",
       "       'HelpfulnessDenominator', 'Score', 'Time', 'Summary', 'Text'],\n",
       "      dtype='object')"
      ]
     },
     "execution_count": 17,
     "metadata": {},
     "output_type": "execute_result"
    }
   ],
   "source": [
    "df.columns"
   ]
  },
  {
   "cell_type": "code",
   "execution_count": 18,
   "id": "a4924789",
   "metadata": {},
   "outputs": [],
   "source": [
    "df.drop(['Id', 'ProductId', 'UserId', 'ProfileName', 'Time'], axis=1, inplace=True)"
   ]
  },
  {
   "cell_type": "code",
   "execution_count": 19,
   "id": "8d4a7516",
   "metadata": {},
   "outputs": [
    {
     "data": {
      "text/plain": [
       "<Axes: xlabel='Score'>"
      ]
     },
     "execution_count": 19,
     "metadata": {},
     "output_type": "execute_result"
    },
    {
     "data": {
      "image/png": "[encoded data removed]",
      "text/plain": [
       "<Figure size 1000x500 with 1 Axes>"
      ]
     },
     "metadata": {},
     "output_type": "display_data"
    }
   ],
   "source": [
    "df['Score'].value_counts().sort_index().plot(kind='bar', figsize=(10, 5), color='skyblue')"
   ]
  },
  {
   "cell_type": "code",
   "execution_count": 20,
   "id": "81b10e22",
   "metadata": {},
   "outputs": [
    {
     "data": {
      "application/vnd.microsoft.datawrangler.viewer.v0+json": {
       "columns": [
        {
         "name": "Score",
         "rawType": "int64",
         "type": "integer"
        },
        {
         "name": "Summary",
         "rawType": "object",
         "type": "string"
        }
       ],
       "ref": "60b399a7-469e-4ee3-abaf-70fa186dd13b",
       "rows": [
        [
         "1",
         "!! NASTY !!"
        ],
        [
         "2",
         "\"30% Juice\" !!!"
        ],
        [
         "3",
         "\" Crema For Idiots\" ( Lavazza Espresso Super Crema)"
        ],
        [
         "4",
         "!!!!!"
        ],
        [
         "5",
         "! It's HOT !"
        ]
       ],
       "shape": {
        "columns": 1,
        "rows": 5
       }
      },
      "text/plain": [
       "Score\n",
       "1                                          !! NASTY !!\n",
       "2                                      \"30% Juice\" !!!\n",
       "3    \" Crema For Idiots\" ( Lavazza Espresso Super C...\n",
       "4                                                !!!!!\n",
       "5                                         ! It's HOT !\n",
       "Name: Summary, dtype: object"
      ]
     },
     "execution_count": 20,
     "metadata": {},
     "output_type": "execute_result"
    }
   ],
   "source": [
    "df.groupby('Score')['Summary'].min()"
   ]
  },
  {
   "cell_type": "code",
   "execution_count": 21,
   "id": "30a3f163",
   "metadata": {},
   "outputs": [
    {
     "name": "stderr",
     "output_type": "stream",
     "text": [
      "C:\\Users\\kevin\\AppData\\Local\\Temp\\ipykernel_13644\\3300960953.py:2: FutureWarning: \n",
      "\n",
      "Passing `palette` without assigning `hue` is deprecated and will be removed in v0.14.0. Assign the `x` variable to `hue` and set `legend=False` for the same effect.\n",
      "\n",
      "  sns.countplot(x='Score', data=df, palette='viridis')\n"
     ]
    },
    {
     "data": {
      "text/plain": [
       "<Axes: xlabel='Score', ylabel='count'>"
      ]
     },
     "execution_count": 21,
     "metadata": {},
     "output_type": "execute_result"
    },
    {
     "data": {
      "image/png": "[encoded data removed]",
      "text/plain": [
       "<Figure size 1000x500 with 1 Axes>"
      ]
     },
     "metadata": {},
     "output_type": "display_data"
    }
   ],
   "source": [
    "plt.figure(figsize=(10, 5))\n",
    "sns.countplot(x='Score', data=df, palette='viridis')"
   ]
  },
  {
   "cell_type": "code",
   "execution_count": 22,
   "id": "22a54f18",
   "metadata": {},
   "outputs": [
    {
     "data": {
      "image/png": "[encoded data removed]",
      "text/plain": [
       "<Figure size 1000x500 with 1 Axes>"
      ]
     },
     "metadata": {},
     "output_type": "display_data"
    }
   ],
   "source": [
    "plt.figure(figsize=(10, 5))\n",
    "plt.scatter(df['HelpfulnessNumerator'], df['Score'])\n",
    "plt.title('Helpfulness vs Score')\n",
    "plt.xlabel('Helpfulness Numerator')\n",
    "plt.ylabel('Score')\n",
    "plt.show()"
   ]
  },
  {
   "cell_type": "code",
   "execution_count": 23,
   "id": "abac7f26",
   "metadata": {},
   "outputs": [
    {
     "data": {
      "text/plain": [
       "<Axes: xlabel='Score', ylabel='Count'>"
      ]
     },
     "execution_count": 23,
     "metadata": {},
     "output_type": "execute_result"
    },
    {
     "data": {
      "image/png": "[encoded data removed]",
      "text/plain": [
       "<Figure size 640x480 with 1 Axes>"
      ]
     },
     "metadata": {},
     "output_type": "display_data"
    }
   ],
   "source": [
    "sns.histplot(df['Score'])"
   ]
  },
  {
   "cell_type": "code",
   "execution_count": 24,
   "id": "9ef4e72e",
   "metadata": {},
   "outputs": [
    {
     "data": {
      "text/plain": [
       "<Axes: xlabel='Score', ylabel='HelpfulnessDenominator'>"
      ]
     },
     "execution_count": 24,
     "metadata": {},
     "output_type": "execute_result"
    },
    {
     "data": {
      "image/png": "[encoded data removed]",
      "text/plain": [
       "<Figure size 640x480 with 1 Axes>"
      ]
     },
     "metadata": {},
     "output_type": "display_data"
    }
   ],
   "source": [
    "sns.barplot(x='Score', y='HelpfulnessDenominator', data=df, estimator='mean')"
   ]
  },
  {
   "cell_type": "code",
   "execution_count": 25,
   "id": "a4e5a5a2",
   "metadata": {},
   "outputs": [
    {
     "data": {
      "text/plain": [
       "<Axes: xlabel='Score', ylabel='HelpfulnessNumerator'>"
      ]
     },
     "execution_count": 25,
     "metadata": {},
     "output_type": "execute_result"
    },
    {
     "data": {
      "image/png": "[encoded data removed]",
      "text/plain": [
       "<Figure size 640x480 with 1 Axes>"
      ]
     },
     "metadata": {},
     "output_type": "display_data"
    }
   ],
   "source": [
    "sns.barplot(x='Score', y='HelpfulnessNumerator', data=df)"
   ]
  },
  {
   "cell_type": "code",
   "execution_count": 26,
   "id": "586635a9",
   "metadata": {},
   "outputs": [
    {
     "data": {
      "text/plain": [
       "<seaborn.axisgrid.PairGrid at 0x1cf4bcb9a00>"
      ]
     },
     "execution_count": 26,
     "metadata": {},
     "output_type": "execute_result"
    },
    {
     "data": {
      "image/png": "[encoded data removed]",
      "text/plain": [
       "<Figure size 558.875x500 with 6 Axes>"
      ]
     },
     "metadata": {},
     "output_type": "display_data"
    }
   ],
   "source": [
    "sns.pairplot(df[['Score', 'HelpfulnessNumerator', 'HelpfulnessDenominator']], hue='Score', palette='coolwarm')"
   ]
  }
 ],
 "metadata": {
  "kernelspec": {
   "display_name": "Python 3",
   "language": "python",
   "name": "python3"
  },
  "language_info": {
   "codemirror_mode": {
    "name": "ipython",
    "version": 3
   },
   "file_extension": ".py",
   "mimetype": "text/x-python",
   "name": "python",
   "nbconvert_exporter": "python",
   "pygments_lexer": "ipython3",
   "version": "3.12.1"
  }
 },
 "nbformat": 4,
 "nbformat_minor": 5
}
